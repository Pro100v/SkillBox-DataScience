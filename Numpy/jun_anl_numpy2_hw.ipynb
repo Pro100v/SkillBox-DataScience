{
 "cells": [
  {
   "cell_type": "markdown",
   "source": [
    "# Библиотека `NumPy`: часть 2\n",
    "\n",
    "*Алла Тамбовцева*\n",
    "\n",
    "## Домашнее задание \n",
    "\n",
    "### Описание домашнего задания и формат сдачи\n",
    "\n",
    "В домашнем задании необходимо решить предложенные задачи по программированию – вписать свой код в ячейки после условий задач вместо комментария `### YOUR CODE HERE ###` в файле *homework-numpy2.ipynb* и сохранить изменения, используя опцию *Save and Checkpoint* из вкладки меню *File* или кнопку *Save and Checkpoint* на панели инструментов. Итоговый файл в формате `.ipynb` (файл Jupyter Notebook) необходимо загрузить в личный кабинет обучающей онлайн платформы Skillbox (https://go.skillbox.ru/) и отправить на проверку."
   ],
   "metadata": {}
  },
  {
   "cell_type": "code",
   "execution_count": 1,
   "source": [
    "import numpy as np"
   ],
   "outputs": [],
   "metadata": {}
  },
  {
   "cell_type": "markdown",
   "source": [
    "### Задание 1\n",
    "Загрузить из файла `array_hw.npy` массив и сохранить его как `arr`. Массив содержит объёмы продаж мороженого (в штуках) в 5 магазинах за одну неделю в июне (7 дней, с понедельника до воскресенья). В заданиях 2-5 нужно работать с массивом `arr`."
   ],
   "metadata": {}
  },
  {
   "cell_type": "code",
   "execution_count": 2,
   "source": [
    "### YOUR CODE HERE ###\r\n",
    "\r\n",
    "arr = np.load('array_hw.npy')\r\n",
    "arr"
   ],
   "outputs": [
    {
     "output_type": "execute_result",
     "data": {
      "text/plain": [
       "array([[100,  80,  70,  60, 120],\n",
       "       [ 65,  55,  20,  50,  60],\n",
       "       [ 80,  90,  75,  80,  60],\n",
       "       [ 45,  60,  70,  20,  40],\n",
       "       [ 82,  47,  56,  89,  92],\n",
       "       [115, 120, 113, 106, 107],\n",
       "       [ 46,  74,  23,  34,  19]], dtype=int64)"
      ]
     },
     "metadata": {},
     "execution_count": 2
    }
   ],
   "metadata": {}
  },
  {
   "cell_type": "markdown",
   "source": [
    "### Задание 2\n",
    "Если думать о массиве `arr` как о таблице, сейчас в таблице магазины идут по столбцам (1 магазин = 1 столбец, всего 5), а дни – по строкам (1 день = 1 строка, всего 7). Преобразовать массив `arr` таким образом, чтобы по строкам шли магазины, а по столбцам – дни (1 строка = 1 магазин). Сохранить изменения. Проверить, что форма массива изменилась."
   ],
   "metadata": {}
  },
  {
   "cell_type": "code",
   "execution_count": 3,
   "source": [
    "### YOUR CODE HERE ###\r\n",
    "arr.T"
   ],
   "outputs": [
    {
     "output_type": "execute_result",
     "data": {
      "text/plain": [
       "array([[100,  65,  80,  45,  82, 115,  46],\n",
       "       [ 80,  55,  90,  60,  47, 120,  74],\n",
       "       [ 70,  20,  75,  70,  56, 113,  23],\n",
       "       [ 60,  50,  80,  20,  89, 106,  34],\n",
       "       [120,  60,  60,  40,  92, 107,  19]], dtype=int64)"
      ]
     },
     "metadata": {},
     "execution_count": 3
    }
   ],
   "metadata": {}
  },
  {
   "cell_type": "markdown",
   "source": [
    "### Задание 3\n",
    "\n",
    "Давайте представим, что информация по продажам обновилась: оказалось, что пятый магазин в воскресенье продал не 19 порций мороженого, а 25, и второй магазин продал во вторник не 55 порций, а 65. Изменить массив `arr` в соответствии с этой информацией."
   ],
   "metadata": {}
  },
  {
   "cell_type": "code",
   "execution_count": 9,
   "source": [
    "### YOUR CODE HERE ###\r\n",
    "arr[6][4] = 25\r\n",
    "arr[1][1] = 65\r\n",
    "arr"
   ],
   "outputs": [
    {
     "output_type": "execute_result",
     "data": {
      "text/plain": [
       "array([[100,  80,  70,  60, 120],\n",
       "       [ 65,  65,  20,  50,  60],\n",
       "       [ 80,  90,  75,  80,  60],\n",
       "       [ 45,  60,  70,  20,  40],\n",
       "       [ 82,  47,  56,  89,  92],\n",
       "       [115, 120, 113, 106, 107],\n",
       "       [ 46,  74,  23,  34,  25]], dtype=int64)"
      ]
     },
     "metadata": {},
     "execution_count": 9
    }
   ],
   "metadata": {}
  },
  {
   "cell_type": "markdown",
   "source": [
    "### Задание 4\n",
    "\n",
    "Посчитать суммарный объём продаж мороженого по всем магазинам."
   ],
   "metadata": {}
  },
  {
   "cell_type": "code",
   "execution_count": 11,
   "source": [
    "### YOUR CODE HERE ###\r\n",
    "arr.sum(axis=0)"
   ],
   "outputs": [
    {
     "output_type": "execute_result",
     "data": {
      "text/plain": [
       "array([533, 536, 427, 439, 504], dtype=int64)"
      ]
     },
     "metadata": {},
     "execution_count": 11
    }
   ],
   "metadata": {}
  },
  {
   "cell_type": "markdown",
   "source": [
    "### Задание 5\n",
    "\n",
    "Выгрузить обновлённый массив `arr` в txt-файл. Сам txt-файл загружать в систему не нужно, только написать соответствующий код в ipynb-файл."
   ],
   "metadata": {}
  },
  {
   "cell_type": "code",
   "execution_count": 13,
   "source": [
    "### YOUR CODE HERE ###\r\n",
    "np.savetxt('arr.txt', arr)"
   ],
   "outputs": [],
   "metadata": {}
  },
  {
   "cell_type": "markdown",
   "source": [
    "### Задание 6\n",
    "Дан массив `income`, содержащий значения прибыли магазина в тысячах на начало, середину и конец года, за четыре года подряд (значения никак не сгруппированы, можно считать, что они так выгрузились из файла). \n",
    "Изменить форму массива так, чтобы значения были сгруппированы по три значения в каждом списке внутри массива (прибыль на начало, середину и конец года)."
   ],
   "metadata": {}
  },
  {
   "cell_type": "code",
   "execution_count": 14,
   "source": [
    "# массив\r\n",
    "income = np.array([1000, 2000, 3500, \r\n",
    "                   2500, 1500, 3800, \r\n",
    "                   1200, 9000, 12000,\r\n",
    "                   4500, 6700, 11000])"
   ],
   "outputs": [],
   "metadata": {}
  },
  {
   "cell_type": "code",
   "execution_count": 16,
   "source": [
    "### YOUR CODE HERE ###\r\n",
    "income.reshape(4,3)"
   ],
   "outputs": [
    {
     "output_type": "execute_result",
     "data": {
      "text/plain": [
       "array([[ 1000,  2000,  3500],\n",
       "       [ 2500,  1500,  3800],\n",
       "       [ 1200,  9000, 12000],\n",
       "       [ 4500,  6700, 11000]])"
      ]
     },
     "metadata": {},
     "execution_count": 16
    }
   ],
   "metadata": {}
  },
  {
   "cell_type": "markdown",
   "source": [
    "### Задание 7\r\n",
    "Создать список `turnout` (*list*, не массив), содержащий следующие значения явки на избирательные участки в процентах:\r\n",
    "\r\n",
    "23.56, 45.78, 34.92, 57.34, 56.55, 67.23.\r\n",
    "\r\n",
    "Создать, используя списковые включения и встроенные, не из `NumPy`, функции для округления, новый список `turnout_r`, который состоит из округлённых до первого знака после запятой значений явки из `turnout`."
   ],
   "metadata": {}
  },
  {
   "cell_type": "code",
   "execution_count": 30,
   "source": [
    "### YOUR CODE HERE ###\r\n",
    "turnout = [23.56, 45.78, 34.92, 57.34, 56.55, 67.23]\r\n",
    "turnout_r = [np.round(i, 1) for i in turnout]\r\n",
    "turnout_r"
   ],
   "outputs": [
    {
     "output_type": "execute_result",
     "data": {
      "text/plain": [
       "[23.6, 45.8, 34.9, 57.3, 56.6, 67.2]"
      ]
     },
     "metadata": {},
     "execution_count": 30
    }
   ],
   "metadata": {}
  },
  {
   "cell_type": "markdown",
   "source": [
    "### Задание 8\n",
    "Выполнить те же операции, что и в предыдущей задаче, но с использованием массивов и функций `NumPy`. Другими словами, создать массив `turnout` и на его основе создать массив `turnout_r` с округлёнными до первого знака значениями явки."
   ],
   "metadata": {}
  },
  {
   "cell_type": "code",
   "execution_count": 33,
   "source": [
    "### YOUR CODE HERE ###\r\n",
    "turnout_r2 = np.round(turnout, 1)\r\n",
    "print(turnout_r2)\r\n",
    "turnout_r2.tolist() == turnout_r"
   ],
   "outputs": [
    {
     "output_type": "stream",
     "name": "stdout",
     "text": [
      "[23.6 45.8 34.9 57.3 56.6 67.2]\n"
     ]
    },
    {
     "output_type": "execute_result",
     "data": {
      "text/plain": [
       "True"
      ]
     },
     "metadata": {},
     "execution_count": 33
    }
   ],
   "metadata": {}
  },
  {
   "cell_type": "markdown",
   "source": [
    "### Задание 9\n",
    "\n",
    "Зайдите на [страницу](https://ru.wikipedia.org/wiki/%D0%9C%D0%B5%D0%B6%D0%B4%D1%83%D0%BD%D0%B0%D1%80%D0%BE%D0%B4%D0%BD%D1%8B%D0%B9_%D0%B8%D0%BD%D0%B4%D0%B5%D0%BA%D1%81_%D1%81%D1%87%D0%B0%D1%81%D1%82%D1%8C%D1%8F) Википедии, посвящённую Международному индексу счастья, выберите из таблицы **2012 Международный индекс счастья** любые 5 стран и любые 3 показателя и создайте структурированный массив `happy`, такой, в котором есть поле «название страны» и поля для трёх выбранных показателей. Выберите подходящий тип для каждого поля (показателя) в массиве и учтите это при создание структурированного массива. Выведите полученный массив на экран."
   ],
   "metadata": {}
  },
  {
   "cell_type": "code",
   "execution_count": 35,
   "source": [
    "### YOUR CODE HERE ###\r\n",
    "happy = np.array(\r\n",
    "    [\r\n",
    "        ('Коста-Рика', 64.0, 7.3, 79.3, 2.5),\r\n",
    "        ('Вьетнам', 60.4, 5.8, 75.2, 1.4),\r\n",
    "        ('Колумбия', 59.8, 6.4, 73.7, 1.8),\r\n",
    "        ('Белиз', 59.3, 6.5, 76.1, 2.1),\r\n",
    "        ('Сальвадор', 58.9, 6.7, 72.2, 2.0),\r\n",
    "    ],\r\n",
    "    dtype=[\r\n",
    "        ('country', 'U20'),\r\n",
    "        ('hpi', '<f4'),\r\n",
    "        ('happynes_idx', '<f4'),\r\n",
    "        ('lifeExpect_idx', '<f4'),\r\n",
    "        ('eco_idx', '<f4'),\r\n",
    "    ]\r\n",
    ")\r\n",
    "\r\n",
    "happy"
   ],
   "outputs": [
    {
     "output_type": "execute_result",
     "data": {
      "text/plain": [
       "array([('Коста-Рика', 64. , 7.3, 79.3, 2.5),\n",
       "       ('Вьетнам', 60.4, 5.8, 75.2, 1.4),\n",
       "       ('Колумбия', 59.8, 6.4, 73.7, 1.8),\n",
       "       ('Белиз', 59.3, 6.5, 76.1, 2.1),\n",
       "       ('Сальвадор', 58.9, 6.7, 72.2, 2. )],\n",
       "      dtype=[('country', '<U20'), ('hpi', '<f4'), ('happynes_idx', '<f4'), ('lifeExpect_idx', '<f4'), ('eco_idx', '<f4')])"
      ]
     },
     "metadata": {},
     "execution_count": 35
    }
   ],
   "metadata": {}
  },
  {
   "cell_type": "markdown",
   "source": [
    "### Задание 10\n",
    "Сконвертируйте полученный в предыдущей задаче структурированный массив в обычный список и выведите на экран его второй элемент."
   ],
   "metadata": {}
  },
  {
   "cell_type": "code",
   "execution_count": 40,
   "source": [
    "### YOUR CODE HERE ###\r\n",
    "happy.tolist()[1]"
   ],
   "outputs": [
    {
     "output_type": "execute_result",
     "data": {
      "text/plain": [
       "('Вьетнам',\n",
       " 60.400001525878906,\n",
       " 5.800000190734863,\n",
       " 75.19999694824219,\n",
       " 1.399999976158142)"
      ]
     },
     "metadata": {},
     "execution_count": 40
    }
   ],
   "metadata": {}
  },
  {
   "cell_type": "markdown",
   "source": [
    ".<br> .<br> .<br> .<br> .<br> .<br> .<br> .<br> .<br> .<br> .<br> .<br> .<br> .<br> .<br> .<br> .<br> .<br> \n",
    "# Дополнительное (необязательное) задание.\n",
    "<br>"
   ],
   "metadata": {}
  },
  {
   "cell_type": "markdown",
   "source": [
    "### Задание 1\n",
    "\n",
    "Написать функцию `build_array()`, которая принимает на вход размерность квадратной матрицы (двумерного массива, в котором число строк и число столбцов совпадают) и создаёт единичную матрицу `E` (массив) соответствующей размерности. Использовать готовую функцию `np.eye()` нельзя, можно использовать циклы и условные конструкции.\n",
    "\n",
    "**Пример:**\n",
    "\n",
    "Ввод:\n",
    "\n",
    "    build_array(4)\n",
    "\n",
    "Вывод:\n",
    "\n",
    "    array([[1., 0., 0., 0.],\n",
    "       [0., 1., 0., 0.],\n",
    "       [0., 0., 1., 0.],\n",
    "       [0., 0., 0., 1.]])\n",
    "       \n",
    "**Подсказка:** про циклы, условные конструкции, функции и двумерные массивы можно почитать в соответствующих разделах pythontutor.ru: [цикл for](http://pythontutor.ru/lessons/for_loop/), [условия](http://pythontutor.ru/lessons/ifelse/), [функции](http://pythontutor.ru/lessons/functions/) и [массивы](http://pythontutor.ru/lessons/2d_arrays/)."
   ],
   "metadata": {
    "colab_type": "text",
    "id": "uplaYklo0zrv"
   }
  },
  {
   "cell_type": "code",
   "execution_count": 47,
   "source": [
    "### YOUR CODE HERE ###\r\n",
    "def build_array (n: int):\r\n",
    "    return np.array([[1. if x==i else 0. for x in range(n)] for i in range (n)])"
   ],
   "outputs": [],
   "metadata": {
    "colab": {},
    "colab_type": "code",
    "id": "saSGBa2N0zrw"
   }
  },
  {
   "cell_type": "code",
   "execution_count": 49,
   "source": [
    "build_array(4) == np.eye(4)"
   ],
   "outputs": [
    {
     "output_type": "execute_result",
     "data": {
      "text/plain": [
       "array([[ True,  True,  True,  True],\n",
       "       [ True,  True,  True,  True],\n",
       "       [ True,  True,  True,  True],\n",
       "       [ True,  True,  True,  True]])"
      ]
     },
     "metadata": {},
     "execution_count": 49
    }
   ],
   "metadata": {}
  },
  {
   "cell_type": "markdown",
   "source": [
    "### Задание 2\r\n",
    "\r\n",
    "Напишите функцию `my_reshape()`, которая принимает на вход массив и его новую размерность (пару чисел), и:\r\n",
    "\r\n",
    "* если указанные измерения корректны, то возвращает массив новой размерности;\r\n",
    "* если указанные измерения некорректны, то возвращает пустой массив (пример: из массива 2×5 нельзя сделать новый массив 4×3, потому что в старом массиве 10 элементов, а в новом – 12).\r\n",
    "\r\n",
    "**Пример:**\r\n",
    "\r\n",
    "Ввод:\r\n",
    "\r\n",
    "    A = np.array([[2, 4, 6], \r\n",
    "            [4, 8, 10]])\r\n",
    "\r\n",
    "    my_reshape(A, 6, 1)\r\n",
    "\r\n",
    "Вывод:\r\n",
    "\r\n",
    "    array([[2], \r\n",
    "       [4], \r\n",
    "       [6], \r\n",
    "       [4], \r\n",
    "       [8],\r\n",
    "       [10]])\r\n",
    "\r\n",
    "Ввод:\r\n",
    "\r\n",
    "    A = np.array([[2, 4, 6], \r\n",
    "            [4, 8, 10]])\r\n",
    "\r\n",
    "    my_reshape(A, 4, 2)\r\n",
    "\r\n",
    "Вывод:\r\n",
    "\r\n",
    "    array([])\r\n",
    "\r\n",
    "**Примечание:** результаты в выводе могут визуально отличаться (выводиться без переносов по строкам, с указанием типа данных), это нормально, примеры модифицированы для читаемости.\r\n",
    "\r\n",
    "**Подсказка:** см. материалы, предложенные в задаче 1."
   ],
   "metadata": {
    "colab_type": "text",
    "id": "jgutn2Sj0zr1"
   }
  },
  {
   "cell_type": "code",
   "execution_count": 54,
   "source": [
    "### YOUR CODE HERE ###\r\n",
    "def my_reshape(A, n, m):\r\n",
    "    if A.size == n*m:\r\n",
    "        return A.reshape(n, m)\r\n",
    "    else:\r\n",
    "        return np.array([])"
   ],
   "outputs": [],
   "metadata": {
    "colab": {},
    "colab_type": "code",
    "id": "BARsZ6SU0zr1"
   }
  },
  {
   "cell_type": "code",
   "execution_count": 69,
   "source": [
    "A = np.array([[2, 4, 6], \r\n",
    "        [4, 8, 10]])\r\n",
    "\r\n",
    "my_reshape(A, 6, 1)"
   ],
   "outputs": [
    {
     "output_type": "execute_result",
     "data": {
      "text/plain": [
       "array([[ 2],\n",
       "       [ 4],\n",
       "       [ 6],\n",
       "       [ 4],\n",
       "       [ 8],\n",
       "       [10]])"
      ]
     },
     "metadata": {},
     "execution_count": 69
    }
   ],
   "metadata": {}
  },
  {
   "cell_type": "code",
   "execution_count": 70,
   "source": [
    "A = np.array([[2, 4, 6], \r\n",
    "        [4, 8, 10]])\r\n",
    "\r\n",
    "my_reshape(A, 4, 2)"
   ],
   "outputs": [
    {
     "output_type": "execute_result",
     "data": {
      "text/plain": [
       "array([], dtype=float64)"
      ]
     },
     "metadata": {},
     "execution_count": 70
    }
   ],
   "metadata": {}
  },
  {
   "cell_type": "code",
   "execution_count": null,
   "source": [],
   "outputs": [],
   "metadata": {}
  }
 ],
 "metadata": {
  "kernelspec": {
   "name": "python3",
   "display_name": "Python 3.8.10 64-bit ('base': conda)"
  },
  "language_info": {
   "codemirror_mode": {
    "name": "ipython",
    "version": 3
   },
   "file_extension": ".py",
   "mimetype": "text/x-python",
   "name": "python",
   "nbconvert_exporter": "python",
   "pygments_lexer": "ipython3",
   "version": "3.8.10"
  },
  "interpreter": {
   "hash": "fd402d93cda15369656610eaa56bd41914ef250d10df625c2a5204e94c068426"
  }
 },
 "nbformat": 4,
 "nbformat_minor": 2
}