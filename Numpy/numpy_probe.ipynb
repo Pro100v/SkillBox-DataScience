{
    "cells": [
        {
            "cell_type": "code",
            "execution_count": 1,
            "source": [
                "import numpy as np"
            ],
            "outputs": [],
            "metadata": {}
        },
        {
            "cell_type": "markdown",
            "source": [
                "# Вычисления с массивами\r\n"
            ],
            "metadata": {}
        },
        {
            "cell_type": "markdown",
            "source": [
                "## вычисления над каждым элементом одномерного массива (можно над любым измерением):"
            ],
            "metadata": {}
        },
        {
            "cell_type": "code",
            "execution_count": 2,
            "source": [
                "np.array([2, 3, 4, 5, 10, 100]) % 100"
            ],
            "outputs": [
                {
                    "output_type": "execute_result",
                    "data": {
                        "text/plain": [
                            "array([ 2,  3,  4,  5, 10,  0], dtype=int32)"
                        ]
                    },
                    "metadata": {},
                    "execution_count": 2
                }
            ],
            "metadata": {}
        },
        {
            "cell_type": "markdown",
            "source": [
                "## вычисления меджу массивами:"
            ],
            "metadata": {}
        },
        {
            "cell_type": "code",
            "execution_count": 3,
            "source": [
                "(np.array([5, 6, 7]) * np.array([1, 5, 10]))"
            ],
            "outputs": [
                {
                    "output_type": "execute_result",
                    "data": {
                        "text/plain": [
                            "array([ 5, 30, 70])"
                        ]
                    },
                    "metadata": {},
                    "execution_count": 3
                }
            ],
            "metadata": {}
        },
        {
            "cell_type": "code",
            "execution_count": 4,
            "source": [
                "arr = np.array([\r\n",
                "    [2, 5, 6],\r\n",
                "    [5, 6, 8,],\r\n",
                "    [9, 0, 4],\r\n",
                "    [7, 9, 4],])"
            ],
            "outputs": [],
            "metadata": {}
        },
        {
            "cell_type": "markdown",
            "source": [
                "# Срезы массивов"
            ],
            "metadata": {}
        },
        {
            "cell_type": "code",
            "execution_count": 5,
            "source": [
                "# в квадратных скобках указывается срез сначало для строк, затем для столбцов\r\n",
                "arr[::-2, ::2]"
            ],
            "outputs": [
                {
                    "output_type": "execute_result",
                    "data": {
                        "text/plain": [
                            "array([[7, 4],\n",
                            "       [5, 8]])"
                        ]
                    },
                    "metadata": {},
                    "execution_count": 5
                }
            ],
            "metadata": {}
        },
        {
            "cell_type": "code",
            "execution_count": 6,
            "source": [
                "arr[1:-1, 1:-1]"
            ],
            "outputs": [
                {
                    "output_type": "execute_result",
                    "data": {
                        "text/plain": [
                            "array([[6],\n",
                            "       [0]])"
                        ]
                    },
                    "metadata": {},
                    "execution_count": 6
                }
            ],
            "metadata": {}
        },
        {
            "cell_type": "code",
            "execution_count": 7,
            "source": [
                "# arr.argmin() - находит позиция в массиве с минимальным значением\r\n",
                "print(arr)\r\n",
                "\r\n",
                "print(\r\n",
                "    'min value =', arr.item(arr.argmin()), \r\n",
                "    ', absolute position = ', arr.argmin(),\r\n",
                "    ', index =', arr.argmin() // arr.shape[1],\r\n",
                "    ', column =', arr.argmin() % arr.shape[1],\r\n",
                "    f', value at position \"arr[{arr.argmin() // arr.shape[1]}, {arr.argmin() % arr.shape[1]}]\" =',\r\n",
                "    arr[arr.argmin() // arr.shape[1], arr.argmin() % arr.shape[1]]\r\n",
                "    )\r\n",
                "\r\n",
                "# arr.argmax() - находит позицию в массиве с максимальным значением\r\n",
                "print(\r\n",
                "    'max value =', arr.item(arr.argmax()), \r\n",
                "    ', absolute position = ', arr.argmax(),\r\n",
                "    ', index =', arr.argmax() // arr.shape[1],\r\n",
                "    ', column =', arr.argmax() % arr.shape[1],\r\n",
                "    f', value at position \"arr[{arr.argmax() // arr.shape[1]}, {arr.argmax() % arr.shape[1]}]\" =',\r\n",
                "    arr[arr.argmax() // arr.shape[1], arr.argmax() % arr.shape[1]]\r\n",
                "    )"
            ],
            "outputs": [
                {
                    "output_type": "stream",
                    "name": "stdout",
                    "text": [
                        "[[2 5 6]\n",
                        " [5 6 8]\n",
                        " [9 0 4]\n",
                        " [7 9 4]]\n",
                        "min value = 0 , absolute position =  7 , index = 2 , column = 1 , value at position \"arr[2, 1]\" = 0\n",
                        "max value = 9 , absolute position =  6 , index = 2 , column = 0 , value at position \"arr[2, 0]\" = 9\n"
                    ]
                }
            ],
            "metadata": {}
        },
        {
            "cell_type": "code",
            "execution_count": 8,
            "source": [
                "# np.arange(2, 9, .5) - генератор массивов \"2\" - начало интервала\r\n",
                "# \"9\" - завершение интервала без включения, \".5\" - шаг\r\n",
                "print(np.arange(2, 9, .5))\r\n",
                "\r\n",
                "print(np.arange(0, 2*8*2, 2))\r\n",
                "print(np.arange(0, 2*8*2, 2).reshape(4,4))\r\n",
                "\r\n",
                "print('\\nНулевая матрица')\r\n",
                "print(np.zeros((10, 3)))\r\n",
                "\r\n",
                "print('\\nМатрица из единиц')\r\n",
                "print(np.zeros((3, 10)))\r\n",
                "\r\n",
                "\r\n",
                "print('\\nЕдиничная матрица - должна быть квадратной NxN')\r\n",
                "print(np.eye(5))"
            ],
            "outputs": [
                {
                    "output_type": "stream",
                    "name": "stdout",
                    "text": [
                        "[2.  2.5 3.  3.5 4.  4.5 5.  5.5 6.  6.5 7.  7.5 8.  8.5]\n",
                        "[ 0  2  4  6  8 10 12 14 16 18 20 22 24 26 28 30]\n",
                        "[[ 0  2  4  6]\n",
                        " [ 8 10 12 14]\n",
                        " [16 18 20 22]\n",
                        " [24 26 28 30]]\n",
                        "\n",
                        "Нулевая матрица\n",
                        "[[0. 0. 0.]\n",
                        " [0. 0. 0.]\n",
                        " [0. 0. 0.]\n",
                        " [0. 0. 0.]\n",
                        " [0. 0. 0.]\n",
                        " [0. 0. 0.]\n",
                        " [0. 0. 0.]\n",
                        " [0. 0. 0.]\n",
                        " [0. 0. 0.]\n",
                        " [0. 0. 0.]]\n",
                        "\n",
                        "Матрица из единиц\n",
                        "[[0. 0. 0. 0. 0. 0. 0. 0. 0. 0.]\n",
                        " [0. 0. 0. 0. 0. 0. 0. 0. 0. 0.]\n",
                        " [0. 0. 0. 0. 0. 0. 0. 0. 0. 0.]]\n",
                        "\n",
                        "Единичная матрица - должна быть квадратной NxN\n",
                        "[[1. 0. 0. 0. 0.]\n",
                        " [0. 1. 0. 0. 0.]\n",
                        " [0. 0. 1. 0. 0.]\n",
                        " [0. 0. 0. 1. 0.]\n",
                        " [0. 0. 0. 0. 1.]]\n"
                    ]
                }
            ],
            "metadata": {}
        },
        {
            "cell_type": "markdown",
            "source": [
                "# Булевые операции (сравение, фильтры)"
            ],
            "metadata": {}
        },
        {
            "cell_type": "code",
            "execution_count": 9,
            "source": [
                "ages = np.random.randint(10,80, 30).reshape(6, 5)\r\n",
                "print(ages)\r\n",
                "\r\n",
                "workers = (ages > 18) & (ages < 68)\r\n",
                "print(workers * 1)\r\n",
                "print(\r\n",
                "    'Total (of \"True\")', workers.sum(),\r\n",
                "    '\\nsum by row', workers.sum(axis=1),\r\n",
                "    '\\nsum by col', workers.sum(axis=0),\r\n",
                "    )\r\n",
                "print()\r\n",
                "not_workers = (ages <= 18) | (ages >= 68)\r\n",
                "print(not_workers * 1)\r\n",
                "print(\r\n",
                "    'Total (of \"True\")', not_workers.sum(),\r\n",
                "    '\\nsum by row', not_workers.sum(axis=1),\r\n",
                "    '\\nsum by col', not_workers.sum(axis=0),\r\n",
                "    )\r\n"
            ],
            "outputs": [
                {
                    "output_type": "stream",
                    "name": "stdout",
                    "text": [
                        "[[45 35 79 34 16]\n",
                        " [76 45 79 26 69]\n",
                        " [77 74 60 51 76]\n",
                        " [33 13 16 30 30]\n",
                        " [31 26 33 55 13]\n",
                        " [55 67 31 59 79]]\n",
                        "[[1 1 0 1 0]\n",
                        " [0 1 0 1 0]\n",
                        " [0 0 1 1 0]\n",
                        " [1 0 0 1 1]\n",
                        " [1 1 1 1 0]\n",
                        " [1 1 1 1 0]]\n",
                        "Total (of \"True\") 18 \n",
                        "sum by row [3 2 2 3 4 4] \n",
                        "sum by col [4 4 3 6 1]\n",
                        "\n",
                        "[[0 0 1 0 1]\n",
                        " [1 0 1 0 1]\n",
                        " [1 1 0 0 1]\n",
                        " [0 1 1 0 0]\n",
                        " [0 0 0 0 1]\n",
                        " [0 0 0 0 1]]\n",
                        "Total (of \"True\") 12 \n",
                        "sum by row [2 3 3 2 1 1] \n",
                        "sum by col [2 2 3 0 5]\n"
                    ]
                }
            ],
            "metadata": {}
        },
        {
            "cell_type": "code",
            "execution_count": 10,
            "source": [
                "ages[(ages<=18) | (ages > 68)]"
            ],
            "outputs": [
                {
                    "output_type": "execute_result",
                    "data": {
                        "text/plain": [
                            "array([79, 16, 76, 79, 69, 77, 74, 76, 13, 16, 13, 79])"
                        ]
                    },
                    "metadata": {},
                    "execution_count": 10
                }
            ],
            "metadata": {}
        },
        {
            "cell_type": "markdown",
            "source": [
                "# Приведение значений массива к логарифмической шкале\r\n",
                "\r\n",
                "часто бывает необходимо отобразить на графике значения в удобном вормате таким образом, что бы не потерять разброс среди чисел массива. Наример мин = 10 000 и макс = 700 000 значения в массиве отличается на 690 000 или в 70 раз - если отобразить значения на одном графике, то большой разброс сравняет все числа в районе минимального значения. В таком случае часто прибегают к отображению данных на логарифмической шкале - в преведенном выше примере, разброс чисел между максимальным и минимальным значением уже не будет столь велико, при этом соотношения между величинами будут заметны\r\n"
            ],
            "metadata": {}
        },
        {
            "cell_type": "code",
            "execution_count": 11,
            "source": [
                "np.log(\r\n",
                "    np.array(\r\n",
                "        [\r\n",
                "            [1, 10, 100, 1000, 10000, 100000, 1000000, 10000000],\r\n",
                "            [2, 20, 200, 2000, 20000, 200000, 2000000, 20000000],\r\n",
                "            [5, 50, 500, 5000, 50000, 500000, 5000000, 50000000],\r\n",
                "            [9, 90, 900, 9000, 90000, 900000, 9000000, 90000000],            \r\n",
                "        ]\r\n",
                "    )\r\n",
                ")"
            ],
            "outputs": [
                {
                    "output_type": "execute_result",
                    "data": {
                        "text/plain": [
                            "array([[ 0.        ,  2.30258509,  4.60517019,  6.90775528,  9.21034037,\n",
                            "        11.51292546, 13.81551056, 16.11809565],\n",
                            "       [ 0.69314718,  2.99573227,  5.29831737,  7.60090246,  9.90348755,\n",
                            "        12.20607265, 14.50865774, 16.81124283],\n",
                            "       [ 1.60943791,  3.91202301,  6.2146081 ,  8.51719319, 10.81977828,\n",
                            "        13.12236338, 15.42494847, 17.72753356],\n",
                            "       [ 2.19722458,  4.49980967,  6.80239476,  9.10497986, 11.40756495,\n",
                            "        13.71015004, 16.01273514, 18.31532023]])"
                        ]
                    },
                    "metadata": {},
                    "execution_count": 11
                }
            ],
            "metadata": {}
        },
        {
            "cell_type": "markdown",
            "source": [
                "# Округление массивов\r\n"
            ],
            "metadata": {}
        },
        {
            "cell_type": "code",
            "execution_count": 12,
            "source": [
                "M = np.arange(1, 10, 0.003)\r\n",
                "A = np.array([2.5, 2.75, 8.1, 9.5])\r\n",
                "M, A"
            ],
            "outputs": [
                {
                    "output_type": "execute_result",
                    "data": {
                        "text/plain": [
                            "(array([1.   , 1.003, 1.006, ..., 9.991, 9.994, 9.997]),\n",
                            " array([2.5 , 2.75, 8.1 , 9.5 ]))"
                        ]
                    },
                    "metadata": {},
                    "execution_count": 12
                }
            ],
            "metadata": {}
        },
        {
            "cell_type": "code",
            "execution_count": 13,
            "source": [
                "print(M.round())\r\n",
                "print(M.round(2))\r\n",
                "print(M.round(3))"
            ],
            "outputs": [
                {
                    "output_type": "stream",
                    "name": "stdout",
                    "text": [
                        "[ 1.  1.  1. ... 10. 10. 10.]\n",
                        "[ 1.    1.    1.01 ...  9.99  9.99 10.  ]\n",
                        "[1.    1.003 1.006 ... 9.991 9.994 9.997]\n"
                    ]
                }
            ],
            "metadata": {}
        },
        {
            "cell_type": "code",
            "execution_count": 14,
            "source": [
                "print(np.floor(A))  # округление до целого в меньшую сторону\r\n",
                "print(np.ceil(A))   # округление до целого в большуб сторону"
            ],
            "outputs": [
                {
                    "output_type": "stream",
                    "name": "stdout",
                    "text": [
                        "[2. 2. 8. 9.]\n",
                        "[ 3.  3.  9. 10.]\n"
                    ]
                }
            ],
            "metadata": {}
        },
        {
            "cell_type": "markdown",
            "source": [
                "# Метематические операции над массивом\r\n"
            ],
            "metadata": {}
        },
        {
            "cell_type": "code",
            "execution_count": 15,
            "source": [
                "print(A)\r\n",
                "print(np.add(A, 2.5))           # добавление значения к элементам\r\n",
                "print(np.subtract(A, 2.5))      # вычитанние ...\r\n",
                "print(np.sum(A))                # суммирование всех значений\r\n",
                "print(np.prod(A))                # произведение ..."
            ],
            "outputs": [
                {
                    "output_type": "stream",
                    "name": "stdout",
                    "text": [
                        "[2.5  2.75 8.1  9.5 ]\n",
                        "[ 5.    5.25 10.6  12.  ]\n",
                        "[0.   0.25 5.6  7.  ]\n",
                        "22.85\n",
                        "529.03125\n"
                    ]
                }
            ],
            "metadata": {}
        },
        {
            "cell_type": "markdown",
            "source": [
                "# Даты\r\n"
            ],
            "metadata": {}
        },
        {
            "cell_type": "code",
            "execution_count": 16,
            "source": [
                "date_1 = '2020-08-18'\r\n",
                "date_2 = '2020-07-18'"
            ],
            "outputs": [],
            "metadata": {}
        },
        {
            "cell_type": "code",
            "execution_count": 17,
            "source": [
                "date_res = np.datetime64(date_1) - np.datetime64(date_2)\r\n",
                "date_res"
            ],
            "outputs": [
                {
                    "output_type": "execute_result",
                    "data": {
                        "text/plain": [
                            "numpy.timedelta64(31,'D')"
                        ]
                    },
                    "metadata": {},
                    "execution_count": 17
                }
            ],
            "metadata": {}
        },
        {
            "cell_type": "markdown",
            "source": [
                "# Структурированные списки "
            ],
            "metadata": {}
        },
        {
            "cell_type": "code",
            "execution_count": 18,
            "source": [
                "info = np.array(\r\n",
                "    [\r\n",
                "        ('Anna', 19, 168),\r\n",
                "        ('Sam', 33, 175.5),\r\n",
                "        ('Pam', 23, 180)\r\n",
                "    ],\r\n",
                "    dtype=[\r\n",
                "        ('name', 'U10'),\r\n",
                "        ('age', int),\r\n",
                "        ('height', float)\r\n",
                "    ]\r\n",
                ")\r\n",
                "info"
            ],
            "outputs": [
                {
                    "output_type": "execute_result",
                    "data": {
                        "text/plain": [
                            "array([('Anna', 19, 168. ), ('Sam', 33, 175.5), ('Pam', 23, 180. )],\n",
                            "      dtype=[('name', '<U10'), ('age', '<i4'), ('height', '<f8')])"
                        ]
                    },
                    "metadata": {},
                    "execution_count": 18
                }
            ],
            "metadata": {}
        },
        {
            "cell_type": "code",
            "execution_count": 19,
            "source": [
                "print(info)\r\n",
                "print(info[:2])\r\n",
                "print(info[['name', 'age']])"
            ],
            "outputs": [
                {
                    "output_type": "stream",
                    "name": "stdout",
                    "text": [
                        "[('Anna', 19, 168. ) ('Sam', 33, 175.5) ('Pam', 23, 180. )]\n",
                        "[('Anna', 19, 168. ) ('Sam', 33, 175.5)]\n",
                        "[('Anna', 19) ('Sam', 33) ('Pam', 23)]\n"
                    ]
                }
            ],
            "metadata": {}
        },
        {
            "cell_type": "code",
            "execution_count": 20,
            "source": [
                "info['age'][0]"
            ],
            "outputs": [
                {
                    "output_type": "execute_result",
                    "data": {
                        "text/plain": [
                            "19"
                        ]
                    },
                    "metadata": {},
                    "execution_count": 20
                }
            ],
            "metadata": {}
        },
        {
            "cell_type": "markdown",
            "source": [
                "# Чтение/запись списков из файлов\r\n"
            ],
            "metadata": {}
        },
        {
            "cell_type": "code",
            "execution_count": 21,
            "source": [
                "# запись массивов в файл\r\n",
                "np.save('info.npy', info)\r\n",
                "np.savetxt('info.txt', info, fmt=['%s', '%d', '%1.2f'], delimiter=';', header='name;age;height')\r\n"
            ],
            "outputs": [],
            "metadata": {}
        },
        {
            "cell_type": "code",
            "execution_count": 22,
            "source": [
                "# загрузка данных \r\n",
                "new_1 = np.load('info.npy')\r\n",
                "print(new_1)\r\n",
                "new_2 = np.loadtxt('info.txt', delimiter=';', dtype=[\r\n",
                "        ('name', 'U10'),\r\n",
                "        ('age', int),\r\n",
                "        ('height', float)\r\n",
                "    ])\r\n",
                "print(new_2)\r\n"
            ],
            "outputs": [
                {
                    "output_type": "stream",
                    "name": "stdout",
                    "text": [
                        "[('Anna', 19, 168. ) ('Sam', 33, 175.5) ('Pam', 23, 180. )]\n",
                        "[('Anna', 19, 168. ) ('Sam', 33, 175.5) ('Pam', 23, 180. )]\n"
                    ]
                }
            ],
            "metadata": {}
        },
        {
            "cell_type": "code",
            "execution_count": 25,
            "source": [
                "np.array2string(info)"
            ],
            "outputs": [
                {
                    "output_type": "execute_result",
                    "data": {
                        "text/plain": [
                            "\"[('Anna', 19, 168. ) ('Sam', 33, 175.5) ('Pam', 23, 180. )]\""
                        ]
                    },
                    "metadata": {},
                    "execution_count": 25
                }
            ],
            "metadata": {}
        },
        {
            "cell_type": "code",
            "execution_count": 30,
            "source": [
                "info.tolist()"
            ],
            "outputs": [
                {
                    "output_type": "execute_result",
                    "data": {
                        "text/plain": [
                            "[('Anna', 19, 168.0), ('Sam', 33, 175.5), ('Pam', 23, 180.0)]"
                        ]
                    },
                    "metadata": {},
                    "execution_count": 30
                }
            ],
            "metadata": {}
        }
    ],
    "metadata": {
        "orig_nbformat": 4,
        "language_info": {
            "name": "python",
            "version": "3.8.10",
            "mimetype": "text/x-python",
            "codemirror_mode": {
                "name": "ipython",
                "version": 3
            },
            "pygments_lexer": "ipython3",
            "nbconvert_exporter": "python",
            "file_extension": ".py"
        },
        "kernelspec": {
            "name": "python3",
            "display_name": "Python 3.8.10 64-bit ('base': conda)"
        },
        "interpreter": {
            "hash": "fd402d93cda15369656610eaa56bd41914ef250d10df625c2a5204e94c068426"
        }
    },
    "nbformat": 4,
    "nbformat_minor": 2
}