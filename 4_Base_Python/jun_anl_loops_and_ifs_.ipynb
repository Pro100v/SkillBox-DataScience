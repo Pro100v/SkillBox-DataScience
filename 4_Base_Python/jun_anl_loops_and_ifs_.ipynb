{
 "cells": [
  {
   "cell_type": "markdown",
   "metadata": {
    "colab_type": "text",
    "id": "X9wfb-pqPzYu"
   },
   "source": [
    "# Циклы и условия\n",
    "\n",
    "## Домашняя работа\n",
    "Эта домашняя работа должна быть решена **БЕЗ** использования готовых функций (если именно они \"решают\" задачу) и сторонних библиотек. Используйте циклы и условия."
   ]
  },
  {
   "cell_type": "markdown",
   "metadata": {
    "colab_type": "text",
    "id": "DMpu8uUoPzY0"
   },
   "source": [
    "## 1\n",
    "\n",
    "Напишите программу, которая будет запрашивать на вход числа (через запятую на одной строке) и выводить наибольшее значение из списка.\n",
    "<br><br>\n",
    "*Ограничение: нельзя пользоваться готовой функцией для нахождения максимума (например, `max()`), готовыми функциями и методами сортировки (например, `sort()`,`sorted()`).*"
   ]
  },
  {
   "cell_type": "code",
   "execution_count": 38,
   "metadata": {
    "colab": {},
    "colab_type": "code",
    "id": "dHs34-p-PzY3"
   },
   "outputs": [
    {
     "name": "stdout",
     "output_type": "stream",
     "text": [
      "input same numbers: 1,2,52 511,51 15,51 ,15 ,15 , ,518684, ,43,g\n",
      "[1, 2, 51, 15, 15, 518684, 43]\n",
      "518684\n"
     ]
    }
   ],
   "source": [
    "### YOUR CODE HERE ###\n",
    "\n",
    "numbers = input('input some numbers: ')\n",
    "number_list = [int(x.strip()) for x in numbers.split(',') if x.strip().isnumeric()]\n",
    "print(number_list)\n",
    "\n",
    "max_number = 0\n",
    "for num in number_list:\n",
    "    if num > max_number:\n",
    "        max_number = num\n",
    "    \n",
    "print(max_number)\n",
    "\n",
    "\n"
   ]
  },
  {
   "cell_type": "markdown",
   "metadata": {
    "colab_type": "text",
    "id": "sCF9Hd9rPzZD"
   },
   "source": [
    "\n",
    "### 2\n",
    "\n",
    "Напишите программу, которая будет запрашивать на вход числа (каждое с новой строки) до тех пор, пока не будет введен ноль (0). На выход должно выводиться второе по величине значение.\n",
    "<br><br>\n",
    "*Ограничение: нельзя пользоваться готовой функцией для нахождения максимума (например, `max()`), готовыми функциями и методами сортировки (например, `sort()`,`sorted()`).*"
   ]
  },
  {
   "cell_type": "code",
   "execution_count": 68,
   "metadata": {
    "colab": {},
    "colab_type": "code",
    "id": "yrJk-mEjPzZF",
    "scrolled": true
   },
   "outputs": [
    {
     "name": "stdout",
     "output_type": "stream",
     "text": [
      "input one number: 4\n",
      "input one number: 6\n",
      "input one number: 0\n",
      "[4, 6, 0]\n",
      "the second biggest number is: 4\n"
     ]
    }
   ],
   "source": [
    "### YOUR CODE HERE ###\n",
    "\n",
    "max_num, res_num = 0, 0\n",
    "numbers = []\n",
    "\n",
    "while True:\n",
    "    s = input('input one number (0 - exit): ')\n",
    "    if not s.strip().isnumeric():\n",
    "        continue\n",
    "    num = int(s)\n",
    "    numbers.append(num)\n",
    "    if num == 0:\n",
    "        break\n",
    "    if num > max_num:\n",
    "        max_num, res_num = num, max_num\n",
    "    elif num > res_num:\n",
    "        res_num = num\n",
    "\n",
    "print(numbers)\n",
    "print(f'the second biggest number is: {res_num}')\n",
    "\n",
    "\n",
    "\n"
   ]
  },
  {
   "cell_type": "markdown",
   "metadata": {
    "colab_type": "text",
    "id": "fdJZMUtGPzZN"
   },
   "source": [
    "### 3\n",
    "\n",
    "Напишите программу, которая принимает на вход год, а на выход выдает количество дней в этом году."
   ]
  },
  {
   "cell_type": "markdown",
   "metadata": {},
   "source": [
    "Описание задачи на [wikipedia](https://ru.wikipedia.org/wiki/%D0%92%D0%B8%D1%81%D0%BE%D0%BA%D0%BE%D1%81%D0%BD%D1%8B%D0%B9_%D0%B3%D0%BE%D0%B4)\n"
   ]
  },
  {
   "cell_type": "code",
   "execution_count": 391,
   "metadata": {
    "colab": {},
    "colab_type": "code",
    "id": "Dk6PDx-jPzZP"
   },
   "outputs": [
    {
     "name": "stdout",
     "output_type": "stream",
     "text": [
      "input one number (0 - exit): 1\n",
      "Обычный, 365 дней\n",
      "input one number (0 - exit): 4\n",
      "Високосный, 366 дней\n",
      "input one number (0 - exit): 100\n",
      "Обычный, 365 дней\n",
      "input one number (0 - exit): 300\n",
      "Обычный, 365 дней\n",
      "input one number (0 - exit): 400\n",
      "Високосный, 366 дней\n",
      "input one number (0 - exit): 1800\n",
      "Обычный, 365 дней\n",
      "input one number (0 - exit): 1900\n",
      "Обычный, 365 дней\n",
      "input one number (0 - exit): 1980\n",
      "Високосный, 366 дней\n",
      "input one number (0 - exit): 2000\n",
      "Високосный, 366 дней\n",
      "input one number (0 - exit): 0\n",
      "[1, 4, 100, 300, 400, 1800, 1900, 1980, 2000]\n"
     ]
    }
   ],
   "source": [
    "### YOUR CODE HERE ###\n",
    "\n",
    "years = []\n",
    "\n",
    "while True:\n",
    "    s = input('input one number (0 - exit): ')\n",
    "    if not s.strip().isnumeric():\n",
    "        continue\n",
    "    year = int(s)    \n",
    "    if year == 0:\n",
    "        break\n",
    "    years.append(year)\n",
    "    if year % 4 != 0 or (year % 100 == 0 and year % 400 != 0):\n",
    "        print('Обычный, 365 дней')\n",
    "    else:\n",
    "        print('Високосный, 366 дней')\n",
    "\n",
    "\n",
    "print(years)\n"
   ]
  },
  {
   "cell_type": "markdown",
   "metadata": {
    "colab_type": "text",
    "id": "wFGBh0dYPzZV"
   },
   "source": [
    "### 4\n",
    "\n",
    "Напишите программу, которая на вход получает координаты двух клеток шахматной доски и выводит соощение о том, являются ли эти клетки одного цвета."
   ]
  },
  {
   "cell_type": "code",
   "execution_count": 132,
   "metadata": {
    "colab": {},
    "colab_type": "code",
    "id": "k-8POcqGPzZW"
   },
   "outputs": [
    {
     "name": "stdout",
     "output_type": "stream",
     "text": [
      "введите шахматную координату: \n",
      "Количество введенных символлов должно быть 2\n",
      "введите шахматную координату: \n",
      "Количество введенных символлов должно быть 2\n",
      "введите шахматную координату: 0\n",
      "введите шахматную координату: f4\n",
      "Выйти? (y/n): f\n",
      "введите шахматную координату: g5\n",
      "введите шахматную координату: 0\n",
      "Выйти? (y/n): y\n"
     ]
    }
   ],
   "source": [
    "### YOUR CODE HERE ###\n",
    "\n",
    "X_LST = ['a', 'b', 'c', 'd', 'e', 'f', 'g', 'h']\n",
    "Y_LST = ['1', '2', '3', '4', '5', '6', '7', '8']\n",
    "CLR = ['black', 'white']\n",
    "\n",
    "def input_cord():\n",
    "    while True:\n",
    "        cord = input('введите шахматную координату: ').strip()\n",
    "        if cord == '0':\n",
    "            return\n",
    "        if len(cord) != 2:\n",
    "            print(\"Количество введенных символлов должно быть 2\")\n",
    "            continue\n",
    "\n",
    "        x, y = cord[0].lower(), cord[1]\n",
    "        if x not in X_LST or not y.isdecimal() or y not in Y_LST:\n",
    "            print(\"не верная координата. Повторите ввод.\")\n",
    "            continue\n",
    "\n",
    "        return x + y\n",
    "    \n",
    "\n",
    "def get_cord_clr(cord):\n",
    "    x, y, *z = cord\n",
    "    X = X_LST.index(x)\n",
    "    Y = Y_LST.index(y)\n",
    "    return CLR[(X + Y) % 2]\n",
    "\n",
    "\n",
    "while True:\n",
    "    cord1, cord2 = input_cord(), input_cord()\n",
    "\n",
    "    if cord1 and cord2:\n",
    "        clr1, clr2 = map(get_cord_clr, [cord1, cord2])\n",
    "        sfx = '' if clr1 == clr2 else 'не'\n",
    "        print(f\"Цвета координат {cord1}({clr1}) и {cord2}({clr2}) {sfx} совпадают\")\n",
    "\n",
    "        if input(\"Хотите повторить? (y/n): \").strip()[0].lower() != 'y':\n",
    "            break\n",
    "    else:\n",
    "        if input(\"Выйти? (y/n): \").strip()[0].lower() == 'y':\n",
    "            break"
   ]
  },
  {
   "cell_type": "markdown",
   "metadata": {
    "colab_type": "text",
    "id": "O594rz0tPzZb"
   },
   "source": [
    "### 5\n",
    "\n",
    "Напишите программу, которая на вход получает число, а на выходе сообщает, простое это число или составное."
   ]
  },
  {
   "cell_type": "code",
   "execution_count": 395,
   "metadata": {
    "colab": {},
    "colab_type": "code",
    "id": "-Oy1AesyPzZd"
   },
   "outputs": [
    {
     "name": "stdout",
     "output_type": "stream",
     "text": [
      "[(2, 'простое'), (4, 'составное'), (5, 'простое'), (6, 'составное'), (7, 'простое'), (9, 'составное'), (11, 'простое'), (13, 'простое'), (15, 'составное'), (17, 'простое'), (23, 'простое')]\n"
     ]
    }
   ],
   "source": [
    "### YOUR CODE HERE ###\n",
    "\n",
    "def num_kind(x):\n",
    "    \"\"\"\n",
    "    определяет простое или составное число.\n",
    "    Простое если делится без остатка только на 1 и на само себя\n",
    "    Составное если делится без остатка на 1, на само себя и на еще какое нибудь число\n",
    "    Функция прерывается, если будет найдено какое нибудь число на которое делится число без остатка, кроме себя и 1\n",
    "    \"\"\"\n",
    "    c=0\n",
    "\n",
    "    for i in range(1, x + 1):\n",
    "        if x % i == 0:\n",
    "            c += 1            \n",
    "        if c>2:            \n",
    "            break\n",
    "    return 'простое' if c <=2 else 'составное'\n",
    "\n",
    "lst = [2, 4, 5, 6, 7, 9, 11, 13, 15, 17, 23]\n",
    "print(list(zip(lst, map(num_kind, lst))))\n"
   ]
  },
  {
   "cell_type": "markdown",
   "metadata": {
    "colab_type": "text",
    "id": "QzBAQaW8PzZg"
   },
   "source": [
    "### 6\n",
    "\n",
    "Напишите программу, которая на вход получает целое число больше 2 и выводит по нему его наименьший натуральный делитель, отличный от 1."
   ]
  },
  {
   "cell_type": "code",
   "execution_count": 167,
   "metadata": {
    "colab": {},
    "colab_type": "code",
    "id": "Z2QzgAYKPzZi"
   },
   "outputs": [
    {
     "name": "stdout",
     "output_type": "stream",
     "text": [
      "[(2, 2), (4, 2), (5, 5), (6, 2), (7, 7), (9, 3), (11, 11), (13, 13), (15, 3), (17, 17), (23, 23)]\n"
     ]
    }
   ],
   "source": [
    "### YOUR CODE HERE ###\n",
    "\n",
    "def get_min_div(x):\n",
    "    for i in range(2, x+1):\n",
    "        if x % i == 0:\n",
    "            return i\n",
    "    return x\n",
    "\n",
    "lst = [2, 4, 5, 6, 7, 9, 11, 13, 15, 17, 23]\n",
    "print(list(zip(lst, map(get_min_div, lst))))\n"
   ]
  },
  {
   "cell_type": "markdown",
   "metadata": {
    "colab_type": "text",
    "id": "Mdg_IAfFPzZk"
   },
   "source": [
    "### 7\n",
    "\n",
    "Напишите программу, которая поможет составить план тренировок для подготовки к марафону. Она получает на вход число километров на планируемом марафоне, сколько пользователь планирует пробежать в первый день тренировок и на сколько процентов планирует увеличивать каждый день это расстояние. На выходе программа должна выдавать, сколько дней пользователю потребуется для того, чтобы подготовиться пробежать целевое количество километров.\n",
    "<br><br>\n",
    "*Ограничение: нельзя пользоваться функцией `ceil()` из модуля `math` и ее аналогами.*"
   ]
  },
  {
   "cell_type": "code",
   "execution_count": 84,
   "metadata": {
    "colab": {},
    "colab_type": "code",
    "id": "mXeF6AMWPzZl"
   },
   "outputs": [
    {
     "name": "stdout",
     "output_type": "stream",
     "text": [
      "[((10, 4, 0.2), 3), ((10, 9, 0.25), 2), ((10, 2, 0.1), 5), ((10, 2, 1.2), 3), ((10, 3, 0.3), 3)]\n",
      "Вариант №1\t\n",
      "        дистанция: 10 км\t\n",
      "        первый день: 4 км\t\n",
      "        увеличения дистанции: 0.2%\t\n",
      "        дней на подготовку:3\n",
      "\t\tДень 1:       4.00 км\n",
      "\t\tДень 2:       8.80 км\n",
      "\t\tДень 3:      13.60 км\n",
      "Вариант №2\t\n",
      "        дистанция: 10 км\t\n",
      "        первый день: 9 км\t\n",
      "        увеличения дистанции: 0.25%\t\n",
      "        дней на подготовку:2\n",
      "\t\tДень 1:       9.00 км\n",
      "\t\tДень 2:      20.25 км\n",
      "Вариант №3\t\n",
      "        дистанция: 10 км\t\n",
      "        первый день: 2 км\t\n",
      "        увеличения дистанции: 0.1%\t\n",
      "        дней на подготовку:5\n",
      "\t\tДень 1:       2.00 км\n",
      "\t\tДень 2:       4.20 км\n",
      "\t\tДень 3:       6.40 км\n",
      "\t\tДень 4:       8.60 км\n",
      "\t\tДень 5:      10.80 км\n",
      "Вариант №4\t\n",
      "        дистанция: 10 км\t\n",
      "        первый день: 2 км\t\n",
      "        увеличения дистанции: 1.2%\t\n",
      "        дней на подготовку:3\n",
      "\t\tДень 1:       2.00 км\n",
      "\t\tДень 2:       6.40 км\n",
      "\t\tДень 3:      10.80 км\n",
      "Вариант №5\t\n",
      "        дистанция: 10 км\t\n",
      "        первый день: 3 км\t\n",
      "        увеличения дистанции: 0.3%\t\n",
      "        дней на подготовку:3\n",
      "\t\tДень 1:       3.00 км\n",
      "\t\tДень 2:       6.90 км\n",
      "\t\tДень 3:      10.80 км\n"
     ]
    }
   ],
   "source": [
    "### YOUR CODE HERE ###\n",
    "\n",
    "def calc_running_plan(distance, fday_dis, upgrade_rate):\n",
    "    total_plan_days = 1\n",
    "    plan_dis = fday_dis\n",
    "    \n",
    "    if fday_dis >= distance or distance <= 0 or fday_dis <= 0 or upgrade_rate <= 0:\n",
    "        return total_plan_days\n",
    "    \n",
    "    while plan_dis < distance:\n",
    "        plan_dis += fday_dis * (1 + upgrade_rate)\n",
    "        total_plan_days +=1\n",
    "    return total_plan_days\n",
    "        \n",
    "lst = [(10, 4, 0.2), \n",
    "       (10, 9, 0.25), \n",
    "       (10, 2, 0.1), \n",
    "       (10, 2, 1.2), \n",
    "       (10, 3, 0.3),]\n",
    "\n",
    "print([(a, calc_running_plan(*a)) for a in lst])\n",
    "\n",
    "for var,item in enumerate(lst):\n",
    "    dis, first_d, rate = item\n",
    "    plan_days = calc_running_plan(*item)\n",
    "    print(f\"\"\"Вариант №{var+1}\\t\n",
    "        дистанция: {dis} км\\t\n",
    "        первый день: {first_d} км\\t\n",
    "        увеличения дистанции: {rate}%\\t\n",
    "        дней на подготовку:{plan_days}\"\"\")\n",
    "    for i in range(plan_days):\n",
    "        \n",
    "        print(f\"\\t\\tДень {i+1}: {first_d + (i * (first_d * (1 + rate))):10.2f} км\")"
   ]
  },
  {
   "cell_type": "markdown",
   "metadata": {
    "colab_type": "text",
    "id": "sxKoWpYKPzZo"
   },
   "source": [
    "### 8\n",
    "\n",
    "Напишите программу, которая на вход получает число n и считает по нему сумму 1²+2²+3²+...+n².\n",
    "<br><br>\n",
    "*Ограничение: нельзя пользоваться функцией `sum()` и ее аналогами.*"
   ]
  },
  {
   "cell_type": "code",
   "execution_count": 91,
   "metadata": {
    "colab": {},
    "colab_type": "code",
    "id": "RiPlWLm6PzZp"
   },
   "outputs": [
    {
     "name": "stdout",
     "output_type": "stream",
     "text": [
      "[('d', 0), (0, 0), (2, 5), (4, 30), (5, 55), (6, 91), (7, 140), (9, 285), (11, 506), (13, 819), (15, 1240), (17, 1785), (23, 4324)]\n"
     ]
    }
   ],
   "source": [
    "### YOUR CODE HERE ###\n",
    "\n",
    "def some_calc(x):\n",
    "    total = 0\n",
    "    if not str(x).isdigit():\n",
    "        x = 0\n",
    "    else:\n",
    "        x = int(x)\n",
    "        \n",
    "    for i in range(1, x+1):\n",
    "        total += i ** 2\n",
    "    return total\n",
    "        \n",
    "some_calc(3)\n",
    "\n",
    "lst = ['d',0, 2, 4, 5, 6, 7, 9, 11, 13, 15, 17, 23]\n",
    "print(list(zip(lst, map(some_calc, lst))))\n"
   ]
  },
  {
   "cell_type": "markdown",
   "metadata": {
    "colab_type": "text",
    "id": "aXzG4-wdPzZr"
   },
   "source": [
    "## 9\n",
    "\n",
    "Напишите программу, которая на вход получает число n и считает по нему сумму сумму 1! + 2! + 3! + ... + n!\n",
    "<br><br>\n",
    "*Ограничение: нельзя пользоваться готовой функцией `factorial()` из модуля `math`, функцией `sum()` и их аналогами.*"
   ]
  },
  {
   "cell_type": "code",
   "execution_count": 132,
   "metadata": {
    "colab": {},
    "colab_type": "code",
    "id": "KBEXUEDQPzZs"
   },
   "outputs": [
    {
     "name": "stdout",
     "output_type": "stream",
     "text": [
      "4037913\n"
     ]
    }
   ],
   "source": [
    "### YOUR CODE HERE ###\n",
    "\n",
    "def my_fact(x):\n",
    "    res = 1\n",
    "    if not str(x).isdigit():\n",
    "        x = 0\n",
    "    else:\n",
    "        x = int(x)\n",
    "    if x == 0:\n",
    "        return 1\n",
    "    for i in range(1,x+1):\n",
    "        res *= i\n",
    "    return res\n",
    "\n",
    "def some_calc_2(x):\n",
    "    total = 0\n",
    "    if not str(x).isdigit():\n",
    "        x = 0\n",
    "    else:\n",
    "        x = int(x)\n",
    "        \n",
    "    for i in range(1, x+1):\n",
    "        total += my_fact(i)\n",
    "    return total\n",
    "\n",
    "x = 10\n",
    "\n",
    "print(some_calc_2(x))"
   ]
  },
  {
   "cell_type": "code",
   "execution_count": 133,
   "metadata": {},
   "outputs": [
    {
     "name": "stdout",
     "output_type": "stream",
     "text": [
      "4037913\n"
     ]
    },
    {
     "data": {
      "text/plain": [
       "True"
      ]
     },
     "execution_count": 133,
     "metadata": {},
     "output_type": "execute_result"
    }
   ],
   "source": [
    "import math \n",
    "\n",
    "\n",
    "y = sum(map(math.factorial, range(1, x+1)))\n",
    "print(y)\n",
    "some_calc_2(x) == y\n"
   ]
  },
  {
   "cell_type": "markdown",
   "metadata": {
    "colab_type": "text",
    "id": "4nsOuiWVPzZu"
   },
   "source": [
    "### 10\n",
    "\n",
    "Напишите программу, которая получает на вход последовательность чисел (каждое число с новой строки до того момента, пока пользователь не введет 0) и считает количество четных элементов в последовательности."
   ]
  },
  {
   "cell_type": "code",
   "execution_count": 140,
   "metadata": {
    "colab": {},
    "colab_type": "code",
    "id": "xktF2cocPzZv"
   },
   "outputs": [
    {
     "name": "stdout",
     "output_type": "stream",
     "text": [
      "input some number (0-exit): 2\n",
      "input some number (0-exit): 2\n",
      "input some number (0-exit): 2\n",
      "input some number (0-exit): 2\n",
      "input some number (0-exit): 2\n",
      "input some number (0-exit): 3\n",
      "input some number (0-exit): 4\n",
      "input some number (0-exit): 4\n",
      "input some number (0-exit): 6\n",
      "input some number (0-exit): 6\n",
      "input some number (0-exit): 6\n",
      "input some number (0-exit): 8\n",
      "input some number (0-exit): 8\n",
      "input some number (0-exit): 0\n",
      "[2, 2, 2, 2, 2, 3, 4, 4, 6, 6, 6, 8, 8]\n",
      "[2, 2, 2, 2, 2, 4, 4, 6, 6, 6, 8, 8]\n",
      "The number of even numbers: 12\n",
      "The number of unique even numbers: 4\n"
     ]
    }
   ],
   "source": [
    "### YOUR CODE HERE ###\n",
    "\n",
    "def get_input_num_list():\n",
    "    res = []\n",
    "    while True:\n",
    "        num = input('input some number (0-exit): ')\n",
    "        if not num.isdigit():\n",
    "            print('incorrect number, try again')\n",
    "            continue\n",
    "        if num == '0':\n",
    "            return res\n",
    "        \n",
    "        res.append(int(num))\n",
    "        \n",
    "\n",
    "num_list = get_input_num_list()\n",
    "print(num_list)\n",
    "\n",
    "num_even_list = [x for x in num_list if x%2 == 0]\n",
    "print(num_even_list)\n",
    "\n",
    "print(f'The number of even numbers: {len(num_even_list)}')\n",
    "print(f\"The number of unique even numbers: {len(set(num_even_list))}\")\n",
    "    \n"
   ]
  },
  {
   "cell_type": "markdown",
   "metadata": {
    "colab_type": "text",
    "id": "hyC9QGXPPzZx"
   },
   "source": [
    "### 11\n",
    "\n",
    "Напишите программу, которая формирует список игроков женской команды по футболу. Программа должна записывать возраст и пол претендента. Возраст должен запрашиваться после пола и только в том случае, если пол претендента женский. Если пол претендента мужской, программа должна сообщать о том, что он не подходит. Возраст претенденток должен быть от 18 до 35 лет. Если кандидат удовлетворяет требованиям, должно появляться соответствующее сообщение."
   ]
  },
  {
   "cell_type": "code",
   "execution_count": 145,
   "metadata": {
    "colab": {},
    "colab_type": "code",
    "id": "qSDK-zQ4PzZx"
   },
   "outputs": [
    {
     "name": "stdout",
     "output_type": "stream",
     "text": [
      "Input gender of footballer (f - female / m - male / 0 - exit): f\n",
      "Input age of footballer (0 - exit): 30\n",
      "Good age! Player added in team.\n",
      "Want to repeat it? (y/n): y\n",
      "Input gender of footballer (f - female / m - male / 0 - exit): m\n",
      "Unfortunately the entered gender is not female.\n",
      "Want to repeat it? (y/n): y\n",
      "Input gender of footballer (f - female / m - male / 0 - exit): m\n",
      "Unfortunately the entered gender is not female.\n",
      "Want to repeat it? (y/n): 15\n",
      "Our dream team. Count: 1. Line-up: [('f', 30)]\n"
     ]
    }
   ],
   "source": [
    "### YOUR CODE HERE ###\n",
    "\n",
    "MALE = 'm'\n",
    "FEMALE = 'f'\n",
    "\n",
    "def get_input_gender():\n",
    "    genders = ['f', 'female', 'm', 'male']\n",
    "    while True:\n",
    "        gender = input(\"Input gender of footballer (f - female / m - male / 0 - exit): \").strip().lower()\n",
    "        if gender == '0':\n",
    "            return\n",
    "        \n",
    "        if gender not in genders:\n",
    "            print('Incorrect gender. Try again.')\n",
    "            continue\n",
    "            \n",
    "        return FEMALE if genders.index(gender) < 2 else MALE\n",
    "    \n",
    "def get_input_age():\n",
    "    while True:\n",
    "        age = input(\"Input age of footballer (0 - exit): \").strip()\n",
    "        \n",
    "        if age == '':\n",
    "            return\n",
    "        \n",
    "        if not age.isdigit():\n",
    "            print(\"Incorrect age. Try again.\")\n",
    "            continue\n",
    "        \n",
    "        return int(age)\n",
    "\n",
    "def want_repeat():\n",
    "    return True if input(\"Want to repeat it? (y/n): \").strip().lower() == 'y' else False\n",
    "    \n",
    "    \n",
    "    \n",
    "female_footballers = []\n",
    "    \n",
    "while True:\n",
    "    gender = get_input_gender()\n",
    "    \n",
    "    if not gender: break\n",
    "    \n",
    "    if gender == MALE:\n",
    "        print(\"Unfortunately the entered gender is not female.\")        \n",
    "    else:\n",
    "        age = get_input_age()\n",
    "        \n",
    "        if not age: break\n",
    "        \n",
    "        if 18 <= age <= 35:\n",
    "            print(\"Good age! Player added in team.\")\n",
    "            female_footballers.append((gender, age))\n",
    "        else:\n",
    "            print(\"Unfortunale the entered age is out of range\")\n",
    "    \n",
    "    if want_repeat(): continue\n",
    "    else: break\n",
    "        \n",
    "\n",
    "print(f\"Our dream team. Count: {len(female_footballers)}. Line-up: {female_footballers}\")\n",
    "        \n"
   ]
  },
  {
   "cell_type": "markdown",
   "metadata": {
    "colab_type": "text",
    "id": "B4JAB8AqPzZ0"
   },
   "source": [
    "### 12\n",
    "\n",
    "\n",
    "Напишите программу, которая на вход получает максимальную ширину ромба и рисует его. Гарантируется, что входное число всегда нечетное.\n",
    " \n",
    "Пример вывода для числа 5:\n",
    "```  \n",
    "  *\n",
    " ***\n",
    "*****\n",
    " ***\n",
    "  *```"
   ]
  },
  {
   "cell_type": "code",
   "execution_count": 263,
   "metadata": {
    "colab": {},
    "colab_type": "code",
    "id": "WVp7O75oPzZ0"
   },
   "outputs": [
    {
     "name": "stdout",
     "output_type": "stream",
     "text": [
      "       *       \n",
      "      ***      \n",
      "     *****     \n",
      "    *******    \n",
      "   *********   \n",
      "  ***********  \n",
      " ************* \n",
      "***************\n",
      " ************* \n",
      "  ***********  \n",
      "   *********   \n",
      "    *******    \n",
      "     *****     \n",
      "      ***      \n",
      "       *       \n"
     ]
    }
   ],
   "source": [
    "### YOUR CODE HERE ###\n",
    "\n",
    "def drow_diamond(max_width):\n",
    "    if max_width % 2 == 0:\n",
    "        max_width += 1\n",
    "    \n",
    "    stars_row = list(range(1,max_width+2,2))\n",
    "    stars_row += stars_row[:-1][::-1]\n",
    "    stars = [f\"{'*' * row:^{max_width}}\" for row in stars_row]\n",
    "    print('\\n'.join(stars))\n",
    "    \n",
    "#     for row in stars_row:\n",
    "#         stars = '*' * row\n",
    "#         print(f\"{stars:^{max_width}}\")\n",
    "\n",
    "        \n",
    "drow_diamond(15)\n",
    "\n"
   ]
  },
  {
   "cell_type": "markdown",
   "metadata": {
    "colab_type": "text",
    "id": "xrIXWj0yPzZ2"
   },
   "source": [
    "### 13\n",
    "\n",
    "Напишите программу, которая запрашивает у пользователя сторону квадрата и символ, а затем рисует этот символ по диагоналям квадрата. Гарантируется, что входное число всегда нечетное.\n",
    " \n",
    "Пример вывода для числа 5:\n",
    "```\n",
    " \n",
    "#   #\n",
    " # #\n",
    "  #  \n",
    " # #\n",
    "#   #\n",
    "```"
   ]
  },
  {
   "cell_type": "code",
   "execution_count": 332,
   "metadata": {
    "colab": {},
    "colab_type": "code",
    "id": "oUKNB9TaPzZ3",
    "outputId": "47421e19-6d45-4cef-9df8-0d89200499ca"
   },
   "outputs": [
    {
     "name": "stdout",
     "output_type": "stream",
     "text": [
      "X       X\n",
      " X     X \n",
      "  X   X  \n",
      "   X X   \n",
      "    X    \n",
      "   X X   \n",
      "  X   X  \n",
      " X     X \n",
      "X       X\n"
     ]
    }
   ],
   "source": [
    "### YOUR CODE HERE ###\n",
    "\n",
    "def drow_x(max_width, sign):\n",
    "    if max_width % 2 == 0:\n",
    "        max_width += 1\n",
    "    \n",
    "    lst = []\n",
    "    for i in range(max_width):\n",
    "        l = [' '] * max_width\n",
    "        l[i] = sign\n",
    "        l[max_width-1-i] = sign\n",
    "        lst.append(l)\n",
    "\n",
    "    print('\\n'.join([''.join(x) for x in lst]))\n",
    "\n",
    "    \n",
    "drow_x(9, 'X')"
   ]
  },
  {
   "cell_type": "markdown",
   "metadata": {
    "colab_type": "text",
    "id": "3GaiPsFYPzZ_"
   },
   "source": [
    "### 14\n",
    "\n",
    "В корзине лежат шары. Если разложить их в кучи по 2, останется один. Если разложить в кучи по 3, останется один. Если разложить в кучи по 4, останется один. Если разложить в кучи по 5, останется один. Если разложить в кучи по 6, останется один. Если разложить в кучи по 7, не будет остатка. Нужно найти минимальное количество шаров, удовлетворяющее условию.  <br>"
   ]
  },
  {
   "cell_type": "code",
   "execution_count": 338,
   "metadata": {
    "colab": {
     "base_uri": "https://localhost:8080/",
     "height": 32
    },
    "colab_type": "code",
    "executionInfo": {
     "elapsed": 1380,
     "status": "ok",
     "timestamp": 1571844968537,
     "user": {
      "displayName": "Анастасия Рогачевская",
      "photoUrl": "https://lh3.googleusercontent.com/a-/AAuE7mB92snW1RMZTGvFBrPMpd_BzLIeP2XnbSZ3ZNVFUQ=s64",
      "userId": "07714489023974728369"
     },
     "user_tz": -180
    },
    "id": "V2msEhQkPzZ_",
    "outputId": "c36c996d-347b-430f-f53e-65e37eb23108"
   },
   "outputs": [
    {
     "name": "stdout",
     "output_type": "stream",
     "text": [
      "301\n"
     ]
    }
   ],
   "source": [
    "### YOUR CODE HERE ###\n",
    "\n",
    "i = 0\n",
    "while True:\n",
    "    i +=1\n",
    "    if i % 2 == 1 and i % 3 == 1 and i % 4 == 1 and i % 5 == 1 and i % 6 == 1 and i % 7 == 0:\n",
    "        break\n",
    "    else:\n",
    "        continue\n",
    "\n",
    "print (i)\n",
    "\n"
   ]
  },
  {
   "cell_type": "markdown",
   "metadata": {
    "colab_type": "text",
    "id": "5pOjlON-PzaC"
   },
   "source": [
    "### 15\n",
    "\n",
    "Рабочие клеили обои на стены. Первую стену поклеили за M минут, а каждую следующую на 5 минут больше, чем предыдущую.\n",
    "Напишите программу, которая запрашивает сколько стен было в квартире под поклейку, а также время работы с первой стеной. Программа должна выводить, сколько **часов** рабочие потратили на поклейку обоев во всей квартире. Ответом должно быть целое число.\n",
    "<br><br>\n",
    "*Ограничение: нельзя пользоваться готовыми функциями `bool()`, `floor()` и их аналогами.*"
   ]
  },
  {
   "cell_type": "code",
   "execution_count": 396,
   "metadata": {
    "colab": {},
    "colab_type": "code",
    "id": "Pmu96rWGPzaD"
   },
   "outputs": [
    {
     "name": "stdout",
     "output_type": "stream",
     "text": [
      "enter walls count: 2\n",
      "enter spent time of first wall : 20\n",
      "total hours is  1\n"
     ]
    }
   ],
   "source": [
    "### YOUR CODE HERE ###\n",
    "\n",
    "def work_estimate(walls, time):\n",
    "    res = time\n",
    "    for wall in range(1, walls):\n",
    "        res += time + 5 * wall\n",
    "    return res // 60 + 1\n",
    "\n",
    "walls = int(input(\"enter walls count: \").strip())\n",
    "time = int(input(\"enter spent time of first wall : \").strip())\n",
    "\n",
    "print (\"total hours is \", work_estimate(walls = walls, time = time))\n"
   ]
  },
  {
   "cell_type": "markdown",
   "metadata": {
    "colab_type": "text",
    "id": "63C6Za3CPzaF"
   },
   "source": [
    "### 16\n",
    "\n",
    "Напишите программу, которая убирает из списка повторяющиеся элементы. Программа должна запрашивать на вход слова, каждое с новой строки, пока пользователь не введет пустую строку. Затем должна выводить список без повторяющихся элементов. \n",
    "<br><br>\n",
    "*Ограничение: нельзя пользоваться готовой функцией `set()` и ее аналогами.*"
   ]
  },
  {
   "cell_type": "code",
   "execution_count": 373,
   "metadata": {
    "colab": {},
    "colab_type": "code",
    "id": "MQ-eDkbAPzaG"
   },
   "outputs": [
    {
     "name": "stdout",
     "output_type": "stream",
     "text": [
      "enter some word (enter empty string for exit): one\n",
      "enter some word (enter empty string for exit): two\n",
      "enter some word (enter empty string for exit): three\n",
      "enter some word (enter empty string for exit): four\n",
      "enter some word (enter empty string for exit): five\n",
      "enter some word (enter empty string for exit): two\n",
      "enter some word (enter empty string for exit): one\n",
      "enter some word (enter empty string for exit): six\n",
      "enter some word (enter empty string for exit): \n",
      "['one', 'two', 'three', 'four', 'five', 'two', 'one', 'six']\n",
      "['one', 'two', 'three', 'four', 'five', 'six']\n"
     ]
    }
   ],
   "source": [
    "### YOUR CODE HERE ###\n",
    "def get_words_list():\n",
    "    res = []\n",
    "    while True:\n",
    "        s = input(\"enter some word (enter empty string for exit): \").strip()\n",
    "        if s == '':\n",
    "            return res\n",
    "        else:\n",
    "            res.append(s)\n",
    "\n",
    "            \n",
    "def get_unique_words_list(words):\n",
    "    res = []\n",
    "    for word in words:\n",
    "        if not word in res:\n",
    "            res.append(word)\n",
    "    return res\n",
    "\n",
    "wrds_lst = get_words_list()\n",
    "print(wrds_lst)\n",
    "print(get_unique_words_list(wrds_lst))\n",
    "            "
   ]
  },
  {
   "cell_type": "markdown",
   "metadata": {
    "colab_type": "text",
    "id": "jueSDORaPzaI"
   },
   "source": [
    "### 17\n",
    "\n",
    "Напишите программу, которая выводит число пар одинаковых элементов в списке. Программа должна запрашивать на вход слова, каждое с новой строки, пока пользователь не введет пустую строку. "
   ]
  },
  {
   "cell_type": "code",
   "execution_count": 380,
   "metadata": {
    "colab": {},
    "colab_type": "code",
    "id": "49tbEr3NPzaJ"
   },
   "outputs": [
    {
     "name": "stdout",
     "output_type": "stream",
     "text": [
      "'one' has 2 repeats\n",
      "'two' has 2 repeats\n",
      "'three' has not repeats\n",
      "'four' has not repeats\n",
      "'five' has not repeats\n",
      "'six' has not repeats\n"
     ]
    }
   ],
   "source": [
    "### YOUR CODE HERE ###\n",
    "\n",
    "def get_pair_count(words):\n",
    "    unique_words = get_unique_words_list(words)\n",
    "    for word in unique_words:\n",
    "        c = words.count(word)\n",
    "        rep = c if c > 1 else 'not'\n",
    "        print(f\"'{word}' has {rep} repeats\")\n",
    "\n",
    "get_pair_count(wrds_lst)\n"
   ]
  },
  {
   "cell_type": "markdown",
   "metadata": {
    "colab_type": "text",
    "id": "yVLcBrD-PzaN"
   },
   "source": [
    "### 18\n",
    "\n",
    "Будем считать, что кубик может иметь неограниченное количество граней (натуральное число). Напишите программу, которая запрашивает, сколько граней имеется у двух разных кубиков. Затем выводит все возможные комбинации результатов бросков двух таких кубиков. "
   ]
  },
  {
   "cell_type": "code",
   "execution_count": 390,
   "metadata": {
    "colab": {},
    "colab_type": "code",
    "id": "7I2va0KwPzaR"
   },
   "outputs": [
    {
     "name": "stdout",
     "output_type": "stream",
     "text": [
      "Кол-во граней 1-го куба: 8\n",
      "Кол-во граней 2-го куба: 8\n",
      "число 02 - 1 комбинаций\n",
      "число 03 - 2 комбинаций\n",
      "число 04 - 3 комбинаций\n",
      "число 05 - 4 комбинаций\n",
      "число 06 - 5 комбинаций\n",
      "число 07 - 6 комбинаций\n",
      "число 08 - 7 комбинаций\n",
      "число 09 - 8 комбинаций\n",
      "число 10 - 7 комбинаций\n",
      "число 11 - 6 комбинаций\n",
      "число 12 - 5 комбинаций\n",
      "число 13 - 4 комбинаций\n",
      "число 14 - 3 комбинаций\n",
      "число 15 - 2 комбинаций\n",
      "число 16 - 1 комбинаций\n"
     ]
    }
   ],
   "source": [
    "### YOUR CODE HERE ###\n",
    "\n",
    "k1 = input('Кол-во граней 1-го куба: ').strip()\n",
    "k2 = input('Кол-во граней 2-го куба: ').strip()\n",
    "res = []\n",
    "for i in range(1, int(k1) + 1):\n",
    "    for j in range(1, int(k2) + 1):\n",
    "        res.append(i + j)\n",
    "\n",
    "print('\\n'.join([f\"число {x:02} - {res.count(x)} комбинаций\" for x in set(res)]))"
   ]
  },
  {
   "cell_type": "code",
   "execution_count": null,
   "metadata": {},
   "outputs": [],
   "source": []
  }
 ],
 "metadata": {
  "colab": {
   "name": "jun_anl_loops_and_ifs_СКРИПТ.ipynb",
   "provenance": []
  },
  "kernelspec": {
   "display_name": "Python 3",
   "language": "python",
   "name": "python3"
  },
  "language_info": {
   "codemirror_mode": {
    "name": "ipython",
    "version": 3
   },
   "file_extension": ".py",
   "mimetype": "text/x-python",
   "name": "python",
   "nbconvert_exporter": "python",
   "pygments_lexer": "ipython3",
   "version": "3.7.4"
  },
  "toc": {
   "base_numbering": 1,
   "nav_menu": {},
   "number_sections": true,
   "sideBar": true,
   "skip_h1_title": false,
   "title_cell": "Table of Contents",
   "title_sidebar": "Contents",
   "toc_cell": false,
   "toc_position": {},
   "toc_section_display": true,
   "toc_window_display": false
  }
 },
 "nbformat": 4,
 "nbformat_minor": 1
}
