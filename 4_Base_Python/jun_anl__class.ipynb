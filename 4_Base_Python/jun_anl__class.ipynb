{
 "cells": [
  {
   "cell_type": "markdown",
   "metadata": {},
   "source": [
    "# Классы\n",
    "## Домашнее задание"
   ]
  },
  {
   "cell_type": "markdown",
   "metadata": {},
   "source": [
    "### Вопросы по лекциям\n",
    "\n",
    "#### 1.\n",
    "\n",
    "Напишите название функции, которая является конструктором класса."
   ]
  },
  {
   "cell_type": "markdown",
   "metadata": {},
   "source": [
    "**Ответ:**\n",
    "\n",
    "`deff __init__(self):`"
   ]
  },
  {
   "cell_type": "markdown",
   "metadata": {},
   "source": [
    "#### 2.\n",
    "\n",
    "На что указывает переменная `self`?"
   ]
  },
  {
   "cell_type": "markdown",
   "metadata": {},
   "source": [
    "**Ответ:**\n",
    "Cсылку на собственный объект в объявлениях класса. Может быть любым названием, но программисты договорились использовать **self** для удобства читаемости кода.\n",
    "\n"
   ]
  },
  {
   "cell_type": "markdown",
   "metadata": {},
   "source": [
    "#### 3.\n",
    "С помощью какой функции можно проверить, что некая строка является именем одного из атрибутов объекта?"
   ]
  },
  {
   "cell_type": "markdown",
   "metadata": {},
   "source": [
    "**Ответ:**\n",
    "\n",
    "`hasattr(SomeClassName, 'some_attr_name')`"
   ]
  },
  {
   "cell_type": "markdown",
   "metadata": {},
   "source": [
    "#### 4.\n",
    "Когда вызывается метод `__del__`? (относительно события удаления объекта)"
   ]
  },
  {
   "cell_type": "markdown",
   "metadata": {},
   "source": [
    "**Ответ:**\n",
    "\n",
    "Когда на объект в памяти больше никто не ссылается, сборщик мусора Python удаляет объект - в этот момент вызывается деструктор класса `__del__` перед физическим удалением объекта из памяти"
   ]
  },
  {
   "cell_type": "markdown",
   "metadata": {},
   "source": [
    "#### 5.\n",
    "Верно ли, что атрибут класса перекрывает атрибут объекта?"
   ]
  },
  {
   "cell_type": "markdown",
   "metadata": {},
   "source": [
    "**Ответ:**\n",
    "\n",
    "Нет. Атрибут объекта действует в своем пространстве имен, аттрибут класса в своем и они не перекрываются."
   ]
  },
  {
   "cell_type": "markdown",
   "metadata": {},
   "source": [
    "#### 6.\n",
    "Можно ли атрибуты базового класса вызывать в дочернем классе? Если да, то напишите, нет ли исклчений?"
   ]
  },
  {
   "cell_type": "markdown",
   "metadata": {},
   "source": [
    "**Ответ:**\n",
    "\n",
    "Да можно. Исключеним являются аттрибуты начинающиеся с 2-х нижних подчеркиваний `__some_private_class_attribute__`"
   ]
  },
  {
   "cell_type": "markdown",
   "metadata": {},
   "source": [
    "#### 7.\n",
    "Объясните своими словами для чего нужен метод `super`."
   ]
  },
  {
   "cell_type": "markdown",
   "metadata": {},
   "source": [
    "**Ответ:**\n",
    "\n",
    "В перегружаемых методах базового класса часто вызывают метод родительского класса с `super` и передачей туда параметров. Т.о. при перегрузке метода вызывается базовый родительский метод, а так же дополнительная реализация дочернего класса"
   ]
  },
  {
   "cell_type": "markdown",
   "metadata": {},
   "source": [
    "### Практика\n",
    "\n",
    "1. Напишите класс `Fraction` для работы с дробями. Пусть дробь в нашем классе предстает в виде `числитель/знаменатель`. Дробное число должно создаваться по запросу `Fraction(a, b)`, где `a` – это числитель, а `b` – знаменатель дроби. \n",
    "2. Добавьте возможность сложения (сложения через оператор сложения) для дроби. Предполагается, что операция сложения может проводиться как только между дробями, так и между дробью и целым числом. Результат оперции должен быть представлен в виде дроби.\n",
    "3. Добавьте возможность взятия раздости (вычитания через оператор вычитания) для дробей. Предполагается, что операция вычитания может проводиться как только для двух дробей, так и для дроби и целого числа. Результат оперции должен быть представлен в виде дроби.\n",
    "4. Добавьте возможность умножения (умножения через оператор умножения) для дробей. Предполагается, что операция умножения может проводиться как только для двух дробей, так и для дроби и целого числа. Результат оперции должен быть представлен в виде дроби.\n",
    "5. Добавьте возможность приведения дроби к целому числу через стандартную функцию `int()`.\n",
    "6. Добавьте возможность приведения дроби к числу с плавающей точкой через стандартную функцию `float()`.\n",
    "7. Создайте дочерний класс `OperationsOnFraction` и добавьте туда собственные методы `getint` и `getfloat`, которые будут возвращять целую часть дроби и представление дроби в виде числа с плавающей точкой соответственно. \n",
    " "
   ]
  },
  {
   "cell_type": "code",
   "execution_count": 1,
   "metadata": {},
   "outputs": [],
   "source": [
    "### YOUR CODE HERE ###\n",
    "\n",
    "class Fraction:\n",
    "    def __init__(self, numinator, denominator):\n",
    "        self.a = numinator\n",
    "        self.b = denominator\n",
    "    \n",
    "    def __str__(self):\n",
    "        width = self.get_width()\n",
    "        return f\"\\033[4m{self.a:^{width}}\\033[0m\\n{self.b:^{width}}\"\n",
    "    \n",
    "    def __repr__(self):\n",
    "        return self.__str__()\n",
    "    \n",
    "    def get_width(self):\n",
    "        width = max(len(str(self.a)), len(str(self.b))) \n",
    "        return width + 2 if width % 2 == 0 else width + 1\n",
    "    \n",
    "    \n",
    "    def common_denominator(self, denominator):\n",
    "        return self.a * denominator, self.b * denominator\n",
    "    \n",
    "    \n",
    "    def __add__(self, other):\n",
    "        if isinstance(other, Fraction):\n",
    "            x_a, x_b = self.common_denominator(other.b)\n",
    "            y_a, y_b = other.common_denominator(self.b)\n",
    "            numinator = x_a + y_a\n",
    "            denominator = max(x_b, y_b) \n",
    "            return Fraction(numinator, denominator)\n",
    "        if isinstance(other, int):\n",
    "            return self.__add__(Fraction(other, 1))\n",
    "    \n",
    "    def __sub__(self, other):\n",
    "        if isinstance(other, Fraction):\n",
    "            x_a, x_b = self.common_denominator(other.b)\n",
    "            y_a, y_b = other.common_denominator(self.b)\n",
    "            numinator = x_a - y_a\n",
    "            denominator = max(x_b, y_b) \n",
    "            return Fraction(numinator, denominator)\n",
    "        if isinstance(other, int):\n",
    "            return self.__sub__(Fraction(other, 1))\n",
    "        \n",
    "    def __mul__(self, other):\n",
    "        if isinstance(other, Fraction):\n",
    "            x_a, x_b = self.common_denominator(other.b)\n",
    "            y_a, y_b = other.common_denominator(self.b)\n",
    "            numinator = self.a * other.a\n",
    "            denominator = self.b * other.b \n",
    "            return Fraction(numinator, denominator)\n",
    "        if isinstance(other, int):\n",
    "            return self.__mul__(Fraction(other, 1))\n",
    "        \n",
    "    def __truediv__(self, other):\n",
    "        if isinstance(other, Fraction):\n",
    "            return self.__mul__(Fraction(other.b, other.a))\n",
    "        if isinstance(other, int):\n",
    "            return self.__mul__(Fraction(1, other))\n",
    "        \n",
    "    def __iadd__(self, other):\n",
    "        return self.__add__(other)\n",
    "    \n",
    "    def __isub__(self, other):\n",
    "        return self.__sub__(other)\n",
    "    \n",
    "    def __imul__(self, other):\n",
    "        return self.__mul__(other)\n",
    "    \n",
    "    def __itruediv__(self, other):\n",
    "        return self.__truediv__(other)\n",
    "    \n",
    "    def __int__(self):\n",
    "        return int(self.a / self.b)\n",
    "    \n",
    "    def __float__(self):\n",
    "        return float(self.a) / float(self.b)\n",
    "    \n",
    "class OperationsOnFraction(Fraction):\n",
    "    \n",
    "    def __init__(self, a, b):\n",
    "        super().__init__(a, b)\n",
    "    \n",
    "    def getint(self):\n",
    "        return int(self)\n",
    "    \n",
    "    def getfloat(self):\n",
    "        return float(self)\n",
    "    "
   ]
  },
  {
   "cell_type": "code",
   "execution_count": 2,
   "metadata": {},
   "outputs": [],
   "source": [
    "f1 = Fraction(2,94)\n",
    "f2 = Fraction(13,5)"
   ]
  },
  {
   "cell_type": "markdown",
   "metadata": {},
   "source": [
    "**Задача #1:** вывод результата **f1** $= \\frac{2}{94}$"
   ]
  },
  {
   "cell_type": "code",
   "execution_count": 3,
   "metadata": {},
   "outputs": [
    {
     "name": "stdout",
     "output_type": "stream",
     "text": [
      "\u001b[4m 2  \u001b[0m\n",
      " 94 \n"
     ]
    }
   ],
   "source": [
    "print(f1)"
   ]
  },
  {
   "cell_type": "markdown",
   "metadata": {},
   "source": [
    "**Задача #1:** вывод результата **f2** $= \\frac{13}{5}$"
   ]
  },
  {
   "cell_type": "code",
   "execution_count": 4,
   "metadata": {},
   "outputs": [
    {
     "data": {
      "text/plain": [
       "\u001b[4m 13 \u001b[0m\n",
       " 5  "
      ]
     },
     "execution_count": 4,
     "metadata": {},
     "output_type": "execute_result"
    }
   ],
   "source": [
    "f2"
   ]
  },
  {
   "cell_type": "markdown",
   "metadata": {},
   "source": [
    "***\n",
    "**Задача #2:** Добавьте возможность сложения (сложения через оператор сложения) для дроби. Предполагается, что операция сложения может проводиться как только между дробями, так и между дробью и целым числом. Результат оперции должен быть представлен в виде дроби.\n",
    "***\n",
    "$$f1 + f2 = \\frac{2}{94} + \\frac{13}{5} = \\frac{5 · 2}{5 · 94} + \\frac{94 · 13}{94 · 5} = \\frac{10}{470} + \\frac{1222}{470} = \\frac{10 + 1222}{470} = \\frac{1232}{470}$$"
   ]
  },
  {
   "cell_type": "code",
   "execution_count": 5,
   "metadata": {},
   "outputs": [
    {
     "data": {
      "text/plain": [
       "\u001b[4m 1232 \u001b[0m\n",
       " 470  "
      ]
     },
     "execution_count": 5,
     "metadata": {},
     "output_type": "execute_result"
    }
   ],
   "source": [
    "f1 + f2"
   ]
  },
  {
   "cell_type": "markdown",
   "metadata": {},
   "source": [
    "***\n",
    "$$f1 + 10 = \\frac{2}{94} + 10 =  \\frac{2}{94} + \\frac{10}{1} = \\frac{1 · 2}{1 · 94} + \\frac{94 · 10}{94 · 1} = \\frac{2}{94} + \\frac{940}{94} = \\frac{2 + 940}{94} = \\frac{942}{94}$$"
   ]
  },
  {
   "cell_type": "code",
   "execution_count": 6,
   "metadata": {},
   "outputs": [
    {
     "data": {
      "text/plain": [
       "\u001b[4m942 \u001b[0m\n",
       " 94 "
      ]
     },
     "execution_count": 6,
     "metadata": {},
     "output_type": "execute_result"
    }
   ],
   "source": [
    "f1 + 10"
   ]
  },
  {
   "cell_type": "markdown",
   "metadata": {},
   "source": [
    "***\n",
    "**Задача #3:** Добавьте возможность взятия разности (вычитания через оператор вычитания) для дробей. Предполагается, что операция вычитания может проводиться как только для двух дробей, так и для дроби и целого числа. Результат оперции должен быть представлен в виде дроби.\n",
    "***\n",
    "$$f1 - f2 = \\frac{2}{94} - \\frac{13}{5} = \\frac{5 · 2}{5 · 94} - \\frac{94 · 13}{94 · 5} = \\frac{10}{470} - \\frac{1222}{470} = \\frac{10 - 1222}{470} = -\\frac{1212}{470}$$"
   ]
  },
  {
   "cell_type": "code",
   "execution_count": 7,
   "metadata": {},
   "outputs": [
    {
     "data": {
      "text/plain": [
       "\u001b[4m-1212 \u001b[0m\n",
       " 470  "
      ]
     },
     "execution_count": 7,
     "metadata": {},
     "output_type": "execute_result"
    }
   ],
   "source": [
    "f1 - f2"
   ]
  },
  {
   "cell_type": "markdown",
   "metadata": {},
   "source": [
    "***\n",
    "$$f1 - 10 = \\frac{2}{94} - 10 =  \\frac{2}{94} - \\frac{10}{1} = \\frac{1 · 2}{1 · 94} - \\frac{94 · 10}{94 · 1} = \\frac{2}{94} - \\frac{940}{94} = \\frac{2 - 940}{94} = -\\frac{938}{94}$$"
   ]
  },
  {
   "cell_type": "code",
   "execution_count": 8,
   "metadata": {},
   "outputs": [
    {
     "data": {
      "text/plain": [
       "\u001b[4m -938 \u001b[0m\n",
       "  94  "
      ]
     },
     "execution_count": 8,
     "metadata": {},
     "output_type": "execute_result"
    }
   ],
   "source": [
    "f1 - 10"
   ]
  },
  {
   "cell_type": "markdown",
   "metadata": {},
   "source": [
    "***\n",
    "**Задача #4:** Добавьте возможность умножения (умножения через оператор умножения) для дробей. Предполагается, что операция умножения может проводиться как только для двух дробей, так и для дроби и целого числа. Результат оперции должен быть представлен в виде дроби.\n",
    "***\n",
    "$$f1 \\times f2 = \\frac{2}{94} \\times \\frac{13}{5} = \\frac{2 · 13}{94 · 5} = \\frac{26}{470}$$"
   ]
  },
  {
   "cell_type": "code",
   "execution_count": 9,
   "metadata": {},
   "outputs": [
    {
     "data": {
      "text/plain": [
       "\u001b[4m 26 \u001b[0m\n",
       "470 "
      ]
     },
     "execution_count": 9,
     "metadata": {},
     "output_type": "execute_result"
    }
   ],
   "source": [
    "f1 * f2"
   ]
  },
  {
   "cell_type": "markdown",
   "metadata": {},
   "source": [
    "***\n",
    "$$f1 \\times 10 = \\frac{2}{94} \\times 10 = \\frac{2}{94} \\times \\frac{10}{1} = \\frac{2 · 10}{94 · 1} = \\frac{20}{94}$$"
   ]
  },
  {
   "cell_type": "code",
   "execution_count": 10,
   "metadata": {},
   "outputs": [
    {
     "data": {
      "text/plain": [
       "\u001b[4m 20 \u001b[0m\n",
       " 94 "
      ]
     },
     "execution_count": 10,
     "metadata": {},
     "output_type": "execute_result"
    }
   ],
   "source": [
    "f1 * 10"
   ]
  },
  {
   "cell_type": "markdown",
   "metadata": {},
   "source": [
    "***\n",
    "**Задача #5:** Добавьте возможность приведения дроби к целому числу через стандартную функцию **`int().`**"
   ]
  },
  {
   "cell_type": "code",
   "execution_count": 11,
   "metadata": {},
   "outputs": [
    {
     "data": {
      "text/plain": [
       "(0, 2)"
      ]
     },
     "execution_count": 11,
     "metadata": {},
     "output_type": "execute_result"
    }
   ],
   "source": [
    "int(f1) ,int(f2)"
   ]
  },
  {
   "cell_type": "markdown",
   "metadata": {},
   "source": [
    "***\n",
    "**Задача #6:** Добавьте возможность приведения дроби к числу с плавающей точкой через стандартную функцию **`float()`**"
   ]
  },
  {
   "cell_type": "code",
   "execution_count": 12,
   "metadata": {},
   "outputs": [
    {
     "data": {
      "text/plain": [
       "(0.02127659574468085, 2.6)"
      ]
     },
     "execution_count": 12,
     "metadata": {},
     "output_type": "execute_result"
    }
   ],
   "source": [
    "float(f1), float(f2)"
   ]
  },
  {
   "cell_type": "markdown",
   "metadata": {},
   "source": [
    "***\n",
    "**Задача #7:** Создайте дочерний класс **`OperationsOnFraction`** и добавьте туда собственные методы **`getint`** и **`getfloat`**, которые будут возвращять целую часть дроби и представление дроби в виде числа с плавающей точкой соответственно.\n"
   ]
  },
  {
   "cell_type": "code",
   "execution_count": 13,
   "metadata": {},
   "outputs": [
    {
     "data": {
      "text/plain": [
       "(2, 2.6)"
      ]
     },
     "execution_count": 13,
     "metadata": {},
     "output_type": "execute_result"
    }
   ],
   "source": [
    "of = OperationsOnFraction(13,5)\n",
    "of.getint(), of.getfloat()"
   ]
  },
  {
   "cell_type": "markdown",
   "metadata": {},
   "source": [
    "***\n",
    "**доп. задача:** деление, инкрементное деление, инкрементное умножение"
   ]
  },
  {
   "cell_type": "code",
   "execution_count": 14,
   "metadata": {},
   "outputs": [
    {
     "data": {
      "text/plain": [
       "\u001b[4m  10  \u001b[0m\n",
       " 1222 "
      ]
     },
     "execution_count": 14,
     "metadata": {},
     "output_type": "execute_result"
    }
   ],
   "source": [
    "f1 / f2"
   ]
  },
  {
   "cell_type": "code",
   "execution_count": 15,
   "metadata": {},
   "outputs": [
    {
     "data": {
      "text/plain": [
       "\u001b[4m 2  \u001b[0m\n",
       "940 "
      ]
     },
     "execution_count": 15,
     "metadata": {},
     "output_type": "execute_result"
    }
   ],
   "source": [
    "f1 / 10"
   ]
  },
  {
   "cell_type": "code",
   "execution_count": 16,
   "metadata": {},
   "outputs": [],
   "source": [
    "f1 /= f2"
   ]
  },
  {
   "cell_type": "code",
   "execution_count": 17,
   "metadata": {},
   "outputs": [
    {
     "data": {
      "text/plain": [
       "\u001b[4m  10  \u001b[0m\n",
       " 1222 "
      ]
     },
     "execution_count": 17,
     "metadata": {},
     "output_type": "execute_result"
    }
   ],
   "source": [
    "f1"
   ]
  },
  {
   "cell_type": "code",
   "execution_count": 18,
   "metadata": {},
   "outputs": [],
   "source": [
    "f2 *= 2"
   ]
  },
  {
   "cell_type": "code",
   "execution_count": 19,
   "metadata": {},
   "outputs": [
    {
     "data": {
      "text/plain": [
       "\u001b[4m 26 \u001b[0m\n",
       " 5  "
      ]
     },
     "execution_count": 19,
     "metadata": {},
     "output_type": "execute_result"
    }
   ],
   "source": [
    "f2"
   ]
  }
 ],
 "metadata": {
  "kernelspec": {
   "display_name": "Python 3",
   "language": "python",
   "name": "python3"
  },
  "language_info": {
   "codemirror_mode": {
    "name": "ipython",
    "version": 3
   },
   "file_extension": ".py",
   "mimetype": "text/x-python",
   "name": "python",
   "nbconvert_exporter": "python",
   "pygments_lexer": "ipython3",
   "version": "3.7.3"
  },
  "toc": {
   "base_numbering": 1,
   "nav_menu": {
    "height": "225px",
    "width": "462px"
   },
   "number_sections": true,
   "sideBar": true,
   "skip_h1_title": false,
   "title_cell": "Table of Contents",
   "title_sidebar": "Contents",
   "toc_cell": false,
   "toc_position": {},
   "toc_section_display": true,
   "toc_window_display": false
  }
 },
 "nbformat": 4,
 "nbformat_minor": 2
}
