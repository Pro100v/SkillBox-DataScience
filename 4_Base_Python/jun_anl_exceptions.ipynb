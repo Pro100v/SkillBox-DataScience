{
 "cells": [
  {
   "cell_type": "markdown",
   "metadata": {
    "colab_type": "text",
    "id": "c2KtXmjxtgw-"
   },
   "source": [
    "# Исключения\n",
    "## Домашняя работа"
   ]
  },
  {
   "cell_type": "markdown",
   "metadata": {
    "colab_type": "text",
    "id": "0Vhx-zKitgxA"
   },
   "source": [
    "### Вопросы по лекциям."
   ]
  },
  {
   "cell_type": "markdown",
   "metadata": {
    "colab_type": "text",
    "id": "14lleKewtgxC"
   },
   "source": [
    "Как поймать вообще все ошибки, которые могут произойти?"
   ]
  },
  {
   "cell_type": "markdown",
   "metadata": {
    "colab_type": "text",
    "id": "VQnYGkVKtgxD"
   },
   "source": [
    "**Ответ:**\n",
    "\n",
    "Заключить код в следующей конструкции\n",
    "```python\n",
    "try:\n",
    "    pass\n",
    "except:\n",
    "    pass\n",
    "```\n"
   ]
  },
  {
   "cell_type": "markdown",
   "metadata": {
    "colab_type": "text",
    "id": "paSc2JE6tgxD"
   },
   "source": [
    "Сколько раз подряд можно указывать except?"
   ]
  },
  {
   "cell_type": "markdown",
   "metadata": {
    "colab_type": "text",
    "id": "bU0lzJPBtgxE"
   },
   "source": [
    "**Ответ:**\n",
    "не ограниченное количество раз"
   ]
  },
  {
   "cell_type": "markdown",
   "metadata": {
    "colab_type": "text",
    "id": "9wQ-yXpGtgxF"
   },
   "source": [
    "Вы хотите с помощью print вывести название ошибки в консоль, как это сделать?"
   ]
  },
  {
   "cell_type": "markdown",
   "metadata": {
    "colab_type": "text",
    "id": "iE1iqRZctgxH"
   },
   "source": [
    "**Ответ:**\n",
    "\n",
    "```python\n",
    "try:\n",
    "    some_code_execution()\n",
    "except Exception as exc:\n",
    "    print(f\"Ошибка! {exc}\")\n",
    "```"
   ]
  },
  {
   "cell_type": "markdown",
   "metadata": {
    "colab_type": "text",
    "id": "EDAi3ZFBtgxI"
   },
   "source": [
    "Вы хотите с помощью print вывести параметры ошибки в консоль, как это сделать?"
   ]
  },
  {
   "cell_type": "markdown",
   "metadata": {
    "colab_type": "text",
    "id": "qWimgtF3tgxK"
   },
   "source": [
    "**Ответ:**\n",
    "\n",
    "```python\n",
    "try: \n",
    "    some_code_execution()\n",
    "except Exception as exc:\n",
    "    print(f\"Ошибка! {exc}: {exc.args}\")\n",
    "```"
   ]
  },
  {
   "cell_type": "markdown",
   "metadata": {
    "colab_type": "text",
    "id": "leOCJIlRtgxK"
   },
   "source": [
    "Что такое DeprecationWarning?"
   ]
  },
  {
   "cell_type": "markdown",
   "metadata": {
    "colab_type": "text",
    "id": "KyaynuyvtgxL"
   },
   "source": [
    "**Ответ:**\n",
    "предупреждений об устаревших возможностях, которые в следующих версиях библиотеки скорее всего уже не будут использоваться. Адресованы для разработчиков\n"
   ]
  },
  {
   "cell_type": "markdown",
   "metadata": {
    "colab_type": "text",
    "id": "oxgCUHzotgxM"
   },
   "source": [
    "### Разминочные задания. \n",
    "<br>\n",
    "\n",
    "Вам даны две функции. Поисследуйте, какие ошибки могут возникнуть при их реализации. Обработайте эти ошибки."
   ]
  },
  {
   "cell_type": "code",
   "execution_count": 21,
   "metadata": {
    "colab": {},
    "colab_type": "code",
    "id": "X4nsMUUAtgxN"
   },
   "outputs": [],
   "source": [
    "def div():\n",
    "    for i in range(2):\n",
    "        x = int(input(\"enter a number: \"))\n",
    "        y = int(input(\"enter another number: \"))\n",
    "        print(x, '/', y, '=', x/y)\n"
   ]
  },
  {
   "cell_type": "code",
   "execution_count": 22,
   "metadata": {
    "colab": {},
    "colab_type": "code",
    "id": "hoDmt-nStgxS"
   },
   "outputs": [],
   "source": [
    "def sumOfPairs(L1, L2):\n",
    "    sum = 0\n",
    "    sumOfPairs = []\n",
    "    for i in range(len(L1)):\n",
    "        sumOfPairs.append(L1[i]+L2[i])\n",
    "\n",
    "    print(\"sumOfPairs = \", sumOfPairs)\n",
    "    "
   ]
  },
  {
   "cell_type": "code",
   "execution_count": 15,
   "metadata": {},
   "outputs": [],
   "source": [
    "def _div():\n",
    "    try: \n",
    "        for i in range(2):\n",
    "            x = int(input(\"enter a number: \"))\n",
    "            y = int(input(\"enter another number: \"))        \n",
    "            print(x, '/', y, '=', x/y)\n",
    "    except ZeroDivisionError as err:\n",
    "        print(f\"math error: {err}\")\n",
    "    except ValueError as err:\n",
    "        print('Could not convert data to an integer.')"
   ]
  },
  {
   "cell_type": "code",
   "execution_count": 16,
   "metadata": {},
   "outputs": [],
   "source": [
    "def _sumOfPairs(L1, L2):\n",
    "    sum = 0\n",
    "    sumOfPairs = []\n",
    "    try:\n",
    "        for i in range(len(L1)):\n",
    "            sumOfPairs.append(L1[i]+L2[i])\n",
    "    except IndexError as err:\n",
    "        print('the size of the lists is not equal')        \n",
    "    else:\n",
    "        print(\"sumOfPairs = \", sumOfPairs)"
   ]
  },
  {
   "cell_type": "code",
   "execution_count": 18,
   "metadata": {},
   "outputs": [
    {
     "name": "stdout",
     "output_type": "stream",
     "text": [
      "enter a number: 3\n",
      "enter another number: 78\n",
      "3 / 78 = 0.038461538461538464\n",
      "enter a number: 3\n",
      "enter another number: 0\n",
      "math error: division by zero\n"
     ]
    }
   ],
   "source": [
    "_div()"
   ]
  },
  {
   "cell_type": "code",
   "execution_count": 19,
   "metadata": {},
   "outputs": [
    {
     "name": "stdout",
     "output_type": "stream",
     "text": [
      "enter a number: 4\n",
      "enter another number: '4'\n",
      "Could not convert data to an integer.\n"
     ]
    }
   ],
   "source": [
    "_div()"
   ]
  },
  {
   "cell_type": "code",
   "execution_count": 31,
   "metadata": {
    "scrolled": true
   },
   "outputs": [
    {
     "name": "stdout",
     "output_type": "stream",
     "text": [
      "sumOfPairs =  [10, 14, 18, 22, 26]\n"
     ]
    }
   ],
   "source": [
    "_sumOfPairs(list(range(0,10,2)), list(range(10, 20, 2)))"
   ]
  },
  {
   "cell_type": "code",
   "execution_count": 35,
   "metadata": {},
   "outputs": [
    {
     "name": "stdout",
     "output_type": "stream",
     "text": [
      "the size of the lists is not equal\n"
     ]
    }
   ],
   "source": [
    "_sumOfPairs(list(range(0,10,2)), list(range(10, 15, 2)))"
   ]
  },
  {
   "cell_type": "markdown",
   "metadata": {
    "colab_type": "text",
    "id": "geX0-Zq6tgxU"
   },
   "source": [
    "### Задание 1.\n",
    "\n",
    "Есть файл с протоколом регистраций пользователей на сайте (registrations.txt).<br>\n",
    "Каждая строка содержит информацию о имени, электронной почте и возрасте человека. <br><br>\n",
    "\n",
    "\n",
    "Надо проверить данные из файла, для каждой строки:\n",
    " - присутсвуют все три поля\n",
    " - поле имени содержит только буквы\n",
    " - поле email содержит @ и .\n",
    " - поле возраст является числом от 10 до 99<br>\n",
    "\n",
    "В результате проверки нужно сформировать два файла\n",
    " - registrations_good.log для правильных данных, записывать строки как есть\n",
    "- registrations_bad.log для ошибочных, записывать строку и вид ошибки.<br>\n",
    "\n",
    "Для валидации строки данных написать метод, который может выкидывать исключения:\n",
    " - НЕ присутсвуют все три поля: ValueError\n",
    " - поле имени содержит НЕ только буквы: NotNameError (кастомное исключение)\n",
    " - поле email НЕ содержит @ и .(точку): NotEmailError (кастомное исключение)\n",
    " - поле возраст НЕ является числом от 10 до 99: ValueError\n",
    "Вызов метода обернуть в try-except."
   ]
  },
  {
   "cell_type": "code",
   "execution_count": 0,
   "metadata": {
    "colab": {},
    "colab_type": "code",
    "id": "Eq2Ax0LntgxW"
   },
   "outputs": [],
   "source": [
    "### YOUR CODE HERE ###\n"
   ]
  },
  {
   "cell_type": "code",
   "execution_count": 105,
   "metadata": {},
   "outputs": [
    {
     "name": "stdout",
     "output_type": "stream",
     "text": [
      "  1 - Ольга rin@mail.ru 45\n",
      "  2 - Артём knkjmbwwe@gmail.com 40\n",
      "  3 - Нагиев kptvmbjlrs@gmail.com 81\n",
      "  4 - Пенг zrlddzogc@mail.ru 20\n",
      "  5 - Сянцзян swnjvpt@gmail.com 49\n",
      "  6 - Степан omsgoxfhv@ya.ru 69\n",
      "  7 - Владимир opsr@gmail.com 45\n",
      "  8 - Ван mrv@gmail.com 82\n",
      "  9 - Чонгкун pkz@mail.ru 18\n",
      " 10 - Равшан nryx@ya.ru 84\n"
     ]
    }
   ],
   "source": [
    "i = 1 \n",
    "l1 = 'Ольга rin@mail.ru 45'\n",
    "l2 = 'Артём knkjmbwwe@gmail.com 40'\n",
    "\n",
    "\n",
    "with open('registrations_.txt') as f:\n",
    "    for line in f:\n",
    "        print('{:>3} - {:>5}'.format(i, line), end = \"\")\n",
    "        i += 1\n",
    "        if i > 10: break\n",
    "    "
   ]
  },
  {
   "cell_type": "code",
   "execution_count": 203,
   "metadata": {},
   "outputs": [
    {
     "name": "stdout",
     "output_type": "stream",
     "text": [
      "NotNameError: 'Ошибка в имени' >>>:Data\n",
      "Ошибка в имени\n",
      "(NotNameError: 'Ошибка в имени' >>>:Data, ('Data',))\n"
     ]
    }
   ],
   "source": [
    "class ValidationError(Exception):    \n",
    "    '''базовый класс для пользовательских исключений.\n",
    "    В объявлении нового класса в переменной err_type указать тип ошибки.\n",
    "    \n",
    "    Параметры:\n",
    "        *args: аргументы передаются в базовый конструктор \n",
    "    '''\n",
    "    err_type = 'BaseValidationError'\n",
    "    def __init__(self, *args):\n",
    "        super().__init__(self, args)\n",
    "        \n",
    "    def __str__(self):\n",
    "        return '{}: \\'{}\\' >>>:{}'.format(\n",
    "            self.__class__.__qualname__,\n",
    "            self.err_type, \n",
    "            '\\t'.join(map(str,*self.args[1:])))\n",
    "    \n",
    "    def __repr__(self):\n",
    "        return '{}'.format(str(self))\n",
    "\n",
    "class NotNameError (ValidationError):\n",
    "    err_type = \"Ошибка в имени\"\n",
    "    pass\n",
    "    \n",
    "\n",
    "class NotEmailError (ValidationError):\n",
    "    err_type = \"Ошибка email\"\n",
    "    pass\n",
    "\n",
    "    \n",
    "try: \n",
    "    raise NotNameError ('Data')\n",
    "except ValidationError as err:\n",
    "    print(err)\n",
    "    print(err.err_type)\n",
    "    print(err.args)\n",
    "    \n"
   ]
  },
  {
   "cell_type": "code",
   "execution_count": 216,
   "metadata": {},
   "outputs": [],
   "source": [
    "class BaseValidator():\n",
    "    '''\n",
    "    класс проверки значения на какое-то конкретное условие\n",
    "    \n",
    "    в методе act() расписываются проверки для конкретого типа валидации\n",
    "    в методе validate() вызывается метод act() и ведется счетчик ошибок\n",
    "    \n",
    "    в методы act() и validate() передается параметр data который проверяется на корректность\n",
    "    \n",
    "    '''\n",
    "    \n",
    "    def __init__(self):\n",
    "        self.error_count = 0\n",
    "        self.pass_count = 0\n",
    "    \n",
    "    def act(self, data):\n",
    "        pass\n",
    "    \n",
    "    def validate(self, data):\n",
    "        try:\n",
    "            self.act(data)\n",
    "            self.pass_count += 1\n",
    "        except Exception as exc:\n",
    "            self.error_count += 1\n",
    "            raise(exc)\n",
    "    \n",
    "class IntValidator(BaseValidator):\n",
    "    '''\n",
    "    класс проверки значения на целое число \n",
    "    \n",
    "    Атрибуты:\n",
    "       l_limit - необязательный атрибут, минимальная граница лимита\n",
    "       r_limit - необязательный атрибут, максимальная граница лимита\n",
    "       is_positive - необязательный атрибут, True - только положительное\n",
    "       is_negative - необязательный атрибут, True - только отрицательное\n",
    "    '''\n",
    "    \n",
    "    def __init__(self):\n",
    "        super().__init__()\n",
    "    \n",
    "    def act(self, data):\n",
    "        if not isinstance(data, int):\n",
    "            raise TypeError('должно быть целое число вместо {}'.format(type(data)))\n",
    "        \n",
    "        if hasattr(self, 'min'):\n",
    "            if data < self.min: \n",
    "                raise ValueError(f'значение({data}) не может быть меньше {self.min}')\n",
    "                \n",
    "        if hasattr(self, 'max'):\n",
    "            if data > self.max:\n",
    "                raise ValueError(f'значение({data}) не может быть больше {self.max}')\n",
    "        \n",
    "        if hasattr(self, 'is_positive'):\n",
    "            if self.is_positive and data < 0:\n",
    "                raise ValueError(f'значение {data} не может быть меньше ноля')\n",
    "                \n",
    "        if hasattr(self, 'is_negative'):\n",
    "            if self.is_negative and data > 0:\n",
    "                raise ValueError(f'значение {data} не может быть больше ноля')\n",
    "    \n",
    "    def set_constraint(self, min, max):\n",
    "        self.min = min\n",
    "        self.max = max \n",
    "    \n",
    "    \n",
    "class StringValidator(BaseValidator):\n",
    "    '''\n",
    "    класс проверки значения на строковый тип данных\n",
    "    \n",
    "    Атрибуты:\n",
    "        en_only - проверяемое значение может быть только из английского словаря\n",
    "        ru_only - проверяемое значение может быть только из русского словаря\n",
    "        \n",
    "        chr_only - проверяемое значение может быть только буквами\n",
    "        \n",
    "    '''\n",
    "    def __init__(self):\n",
    "        \n",
    "#       инициализация словарей символов \n",
    "        self.init_chars_sets() \n",
    "        super().__init__()\n",
    "    \n",
    "    def get_ABC(self, first_char, last_char):\n",
    "        '''\n",
    "        метод генерации алфафита \n",
    "        \n",
    "        Параметры:\n",
    "            first_char(str): первый символ в последовательности \n",
    "            last_char(str): последний символ в последовательности\n",
    "            \n",
    "        Возвращает:\n",
    "            список (list) символов между first_char и last_char\n",
    "        '''\n",
    "        return list( map(chr, range(ord(first_char), ord(last_char)+1)) )\n",
    "    \n",
    "    def init_chars_sets(self):\n",
    "#         -- EN --\n",
    "        en_lc = self.get_ABC('a','z')\n",
    "        en_uc = self.get_ABC('A', 'Z')\n",
    "        \n",
    "        self.en_lc_chars_set = en_lc\n",
    "        self.en_uc_chars_set = en_uc\n",
    "        self.en_chars_set = [*en_lc, *en_uc]\n",
    "        \n",
    "#         -- RU --\n",
    "        ru_lc = self.get_ABC('а','я') + list('ё')\n",
    "        ru_uc = self.get_ABC('А', 'Я') + list('Ё')\n",
    "        \n",
    "        self.ru_lc_chars_set = ru_lc\n",
    "        self.ru_uc_chars_set = ru_uc\n",
    "        self.ru_chars_set = [*ru_lc, *ru_uc]\n",
    "        \n",
    "#         NUM\n",
    "        self.num_set = self.get_ABC('0','9')\n",
    "        \n",
    "#         -- COMBO --\n",
    "        self.en_num_set = [*self.en_chars_set, *self.num_set]\n",
    "        self.ru_num_set = [*self.ru_chars_set, *self.num_set]\n",
    "        self.en_ru_num_set = [*self.en_chars_set,*self.ru_chars_set, *self.num_set]\n",
    "    \n",
    "    def act(self, data):\n",
    "        if not isinstance(data, str):\n",
    "            raise TypeError('должна быть строка вместо {}'.format(type(data)));\n",
    "            \n",
    "        if hasattr(self, 'ru_only'):\n",
    "            if self.ru_only and not self.all_in_ru(data):\n",
    "                raise NotNameError('в значении символы не из русского алфавита')\n",
    "                \n",
    "        if hasattr(self, 'en_only'):\n",
    "            if self.en_only and not self.all_in_en(data):\n",
    "                raise NotNameError('в значении символы не из английского алфавита')\n",
    "                \n",
    "        if hasattr(self, 'chr_only'):\n",
    "            if self.chr_only and len(set(self.num_set).intersection(set(data))) > 0:\n",
    "                raise NotNameError('в значении содержатся НЕ только буквы')\n",
    "\n",
    "    def all_in(self, data, char_set):\n",
    "        '''\n",
    "        метод определения вхождения data в пространство char_set\n",
    "        \n",
    "        Параметры:\n",
    "            data: итерируемый, строка / список / кортеж\n",
    "            char_set: итерируемый, строка / список / кортеж\n",
    "        \n",
    "        Возвращает: True если все символы data находится в наборе символов char_set\n",
    "        '''\n",
    "        return set(data) <= set(char_set)\n",
    "    \n",
    "    def all_in_num(self, data):\n",
    "        return self.all_in(data, self.num_set)    \n",
    "    \n",
    "#   -- EN --\n",
    "    def all_in_en_lc(self, data):\n",
    "        return self.all_in(data, self.en_lc_chars_set)\n",
    "    \n",
    "    def all_in_en_uc(self, data):\n",
    "        return self.all_in(data, self.en_uc_chars_set)\n",
    "    \n",
    "    def all_in_en(self, data):\n",
    "        return self.all_in(data, self.en_chars_set)\n",
    "\n",
    "    def all_in_en_num(self, data):\n",
    "        return self.all_in(data, self.en_num_set)            \n",
    "\n",
    "#   -- RU --\n",
    "    def all_in_ru_lc(self, data):\n",
    "        return self.all_in(data, self.ru_lc_chars_set)\n",
    "    \n",
    "    def all_in_ru_uc(self, data):\n",
    "        return self.all_in(data, self.ru_uc_chars_set)\n",
    "    \n",
    "    def all_in_ru(self, data):\n",
    "        return self.all_in(data, self.ru_chars_set)\n",
    "    \n",
    "    def all_in_ru_num(self, data):\n",
    "        return self.all_in(data, self.ru_num_set)\n",
    "    \n",
    "#   -- combo -- \n",
    "    def all_in_en_ru_num(self, data):\n",
    "        return self.all_in(data, self.en_ru_num_set)\n",
    "        \n",
    "                \n",
    "\n",
    "class EmailValidator(StringValidator):\n",
    "    '''\n",
    "    класс валидации email\n",
    "    '''\n",
    "    spec_chars = ['.', '!', '#', '$', '%', \n",
    "                  '&', '\\'', '*', '+', '—', \n",
    "                  '/', '=', '?', '^', '_', \n",
    "                  '`', '{', '|', '}', '~']\n",
    "                \n",
    "    def act(self, data):\n",
    "        super().act(data)\n",
    "        data = data.strip()\n",
    "        \n",
    "#       проверка на вхождение @ - должно быть только 1 раз\n",
    "        if data.count('@') != 1:\n",
    "            raise NotEmailError('символ @ встречается {} 1 раза'.format(\n",
    "                'более' if data.count('@') else 'менее'))\n",
    "\n",
    "#       проводим раздельные проверки по пользователю и домену\n",
    "        username, hostname = data.split('@')\n",
    "\n",
    "        self.check_username(username)\n",
    "        self.check_hostname(hostname)\n",
    "        \n",
    "        return True\n",
    "     \n",
    "    \n",
    "    def check_username(self, username):       \n",
    "        obj = 'пользователя'\n",
    "#       имя не может быть пустым\n",
    "        if not len(username) > 0:\n",
    "            raise NotEmailError('имя {} не может быть пустым'.format(obj))\n",
    "        \n",
    "        if username[0] == '.' or username[-1] == '.':\n",
    "            raise NotEmailError('имя {} не может начинаться или заканчиваться \\'.\\' '.format(obj))\n",
    "        \n",
    "        if not set(username) <= set(self.en_num_set + self.spec_chars):\n",
    "            raise NotEmailError(f'в имени {obj} недопустимые символы [a-z][A-Z][0-9][.]')\n",
    "        \n",
    "\n",
    "    def check_hostname(self, hostname):\n",
    "        obj = 'хоста'\n",
    "#       имя не может быть пустым\n",
    "        if not len(hostname) > 0:\n",
    "            raise NotEmailError('имя {} не может быть пустым'.format(obj))\n",
    "\n",
    "#         проверка на наличиие '.' в hostname\n",
    "        if not hostname.count('.'):\n",
    "            raise NotEmailError('в имени хоста отсутствует \\'.\\'')\n",
    "            \n",
    "        if not set(hostname) <= set(self.en_num_set + self.spec_chars):\n",
    "            raise NotEmailError(f'в имени {obj} недопустимые символы [a-z][A-Z][0-9][.]')\n",
    "\n",
    "class FieldValidator():\n",
    "    '''\n",
    "    класс описывающий классификатор поля данных для последующей проверки \n",
    "    \n",
    "    Параметры:\n",
    "        name - название поля     \n",
    "        required - обязательное для заполнения или нет\n",
    "        args  - передается набор валидаторов, наследников от BaseValidator\n",
    "    \n",
    "    Методы: \n",
    "        check - запускает на проверку все переданные валидаторы\n",
    "    \n",
    "    '''   \n",
    "    \n",
    "    def __init__(self, name, required, *args, **kwargs):\n",
    "       \n",
    "        self.name = name        \n",
    "        self.required = required\n",
    "        self.val_collect = [] \n",
    "        for arg in args:\n",
    "            self.__add__(arg)\n",
    "    \n",
    "    def __str__(self):\n",
    "        text = 'имя - ' + self.name        \n",
    "        text += ', обязательное - ' + str(self.required)\n",
    "        text += ', валидаторы - ' + ' | '.join([val.__class__.__qualname__ for val in self.val_collect])\n",
    "        return text\n",
    "\n",
    "    def check(self, data):\n",
    "        if self.required and not data:\n",
    "            raise ValueError(f\"поле '{self.name}' не может быть пустым\")\n",
    "        for val in self.val_collect:\n",
    "            val.validate(data)\n",
    "    \n",
    "    def __add__(self, other):\n",
    "        if isinstance(other, BaseValidator):\n",
    "#           добавляем только один экземпляр одного и того же класса\n",
    "            if type(other) not in map(type, self.val_collect): \n",
    "                self.val_collect.append(other)\n",
    "        return self\n",
    "            \n",
    "    def __iadd__(self, other):\n",
    "        return self.__add__(other)\n",
    "        "
   ]
  },
  {
   "cell_type": "code",
   "execution_count": 218,
   "metadata": {},
   "outputs": [],
   "source": [
    "# registrations_good.log для правильных данных, записывать строки как есть\n",
    "f_good_log = 'registrations_good.log'\n",
    "# registrations_bad.log для ошибочных, записывать строку и вид ошибки.\n",
    "f_bed_log = 'registrations_bad.log'\n",
    "\n",
    "bad_log = []\n",
    "good_log = []\n",
    "\n",
    "nameValidator = StringValidator()\n",
    "nameValidator.chr_only = True\n",
    "name = FieldValidator('name', True, nameValidator)\n",
    "\n",
    "emailValidator = EmailValidator()\n",
    "email = FieldValidator('email', True, emailValidator)\n",
    "\n",
    "ageValidator = IntValidator()\n",
    "ageValidator.set_constraint(min = 10, max = 99)\n",
    "# ageValidator.min = 10\n",
    "# ageValidator.max = 99\n",
    "age = FieldValidator('age', True, ageValidator)\n",
    "\n",
    "with open('registrations_.txt') as f:\n",
    "    for line in f:\n",
    "#         print('{:>3} - {:>5}'.format(i, line), end = \"\")\n",
    "        \n",
    "        try:\n",
    "            fields = dict(enumerate(line.strip().split(' ')))\n",
    "            if len(fields) < 3:\n",
    "                raise ValueError('ошибка: не заполнены все необходимые поля')\n",
    "            name.check(fields.get(0))\n",
    "            email.check(fields.get(1))\n",
    "            age.check(int(fields.get(2)))\n",
    "            good_log.append(line)\n",
    "        except (ValidationError, TypeError, ValueError) as err:\n",
    "            bad_log.append(line.replace('\\n','') + '\\t\\t\\t\\t#' + str(err) + '\\n')\n",
    "\n",
    "                \n",
    "with open(f_good_log, 'w') as f:\n",
    "    for item in good_log:\n",
    "        f.write(item)\n",
    "        \n",
    "with open(f_bed_log, 'w') as f:\n",
    "    f.write(f'Общее количество ошибок в имени - {nameValidator.error_count}\\n')\n",
    "    f.write(f'Общее количество ошибок в эл.почте - {emailValidator.error_count}\\n')\n",
    "    f.write(f'Общее количество ошибок в возрасте - {ageValidator.error_count}\\n')\n",
    "    f.write('='*40 + '\\n'*3)\n",
    "    for item in bad_log:\n",
    "        f.write(item)\n"
   ]
  },
  {
   "cell_type": "code",
   "execution_count": null,
   "metadata": {},
   "outputs": [],
   "source": []
  }
 ],
 "metadata": {
  "colab": {
   "name": "jun_anl_exeptions.ipynb",
   "provenance": [],
   "version": "0.3.2"
  },
  "kernelspec": {
   "display_name": "Python 3",
   "language": "python",
   "name": "python3"
  },
  "language_info": {
   "codemirror_mode": {
    "name": "ipython",
    "version": 3
   },
   "file_extension": ".py",
   "mimetype": "text/x-python",
   "name": "python",
   "nbconvert_exporter": "python",
   "pygments_lexer": "ipython3",
   "version": "3.7.4"
  },
  "toc": {
   "base_numbering": 1,
   "nav_menu": {},
   "number_sections": true,
   "sideBar": true,
   "skip_h1_title": false,
   "title_cell": "Table of Contents",
   "title_sidebar": "Contents",
   "toc_cell": false,
   "toc_position": {},
   "toc_section_display": true,
   "toc_window_display": false
  }
 },
 "nbformat": 4,
 "nbformat_minor": 1
}
