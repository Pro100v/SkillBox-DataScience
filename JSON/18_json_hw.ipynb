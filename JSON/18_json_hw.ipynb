{
 "cells": [
  {
   "cell_type": "markdown",
   "metadata": {
    "colab_type": "text",
    "id": "zgfg6PaTrknK"
   },
   "source": [
    "# Чтение и запись данных\n"
   ]
  },
  {
   "cell_type": "code",
   "execution_count": 20,
   "metadata": {
    "colab": {},
    "colab_type": "code",
    "id": "qpd3wki0rknL"
   },
   "outputs": [],
   "source": [
    "import urllib.request as req\n",
    "import json\n",
    "import pandas as pd\n",
    "from matplotlib import pyplot as plt"
   ]
  },
  {
   "cell_type": "markdown",
   "metadata": {
    "colab_type": "text",
    "id": "FOXDpSRnrknP"
   },
   "source": [
    "## Урок 1. Чтение данных из web-сервиса\n",
    "\n",
    "### Практика\n",
    "\n",
    "#### Задание 1\n",
    "\n",
    "Используя сервис MetaWeather, найдите идентификатор города Париж (Paris). Для запроса используйте адрес из следующей ячейки, заменив `%city%` на имя города."
   ]
  },
  {
   "cell_type": "code",
   "execution_count": 7,
   "metadata": {
    "colab": {},
    "colab_type": "code",
    "id": "1Xljt65SrknP"
   },
   "outputs": [
    {
     "data": {
      "text/plain": [
       "615702"
      ]
     },
     "execution_count": 7,
     "metadata": {},
     "output_type": "execute_result"
    }
   ],
   "source": [
    "city = 'Paris'\n",
    "url = f\"https://www.metaweather.com/api/location/search/?query={city}\"\n",
    "url\n",
    "\n",
    "with req.urlopen(url) as session:\n",
    "    response = session.read().decode()\n",
    "\n",
    "response = json.loads(response)\n",
    "    \n",
    "city_id = response[0]['woeid']\n",
    "city_id"
   ]
  },
  {
   "cell_type": "markdown",
   "metadata": {
    "colab_type": "text",
    "id": "H0XwvPuJrknR"
   },
   "source": [
    "#### Задание 2\n",
    "\n",
    "Используя полученный идентификатор города, запросите данные о погоде в Париже за 28 мая 2020 года. Для запроса используйте адрес из следующей ячейки, заменив `%city_id%`, `%year%`, `%month%`, `%day%` на идентификатор города, год, месяц и день соответственно."
   ]
  },
  {
   "cell_type": "code",
   "execution_count": 9,
   "metadata": {
    "colab": {},
    "colab_type": "code",
    "id": "tjsftok3rknS"
   },
   "outputs": [
    {
     "data": {
      "text/plain": [
       "'https://www.metaweather.com/api/location/615702/2020/06/28/'"
      ]
     },
     "execution_count": 9,
     "metadata": {},
     "output_type": "execute_result"
    }
   ],
   "source": [
    "year = '2020'\n",
    "month = '06'\n",
    "day = '28'\n",
    "\n",
    "\n",
    "url = f'https://www.metaweather.com/api/location/{city_id}/{year}/{month}/{day}/'\n",
    "url"
   ]
  },
  {
   "cell_type": "code",
   "execution_count": 16,
   "metadata": {},
   "outputs": [],
   "source": [
    "with req.urlopen(url) as session:\n",
    "    response = session.read().decode()\n",
    "\n",
    "# response = json.loads(response)\n",
    "# response"
   ]
  },
  {
   "cell_type": "code",
   "execution_count": 38,
   "metadata": {},
   "outputs": [],
   "source": [
    "df = pd.read_json(response, convert_dates=['created', 'applicable_date'])\n"
   ]
  },
  {
   "cell_type": "code",
   "execution_count": 39,
   "metadata": {},
   "outputs": [
    {
     "data": {
      "text/plain": [
       "id                                      int64\n",
       "weather_state_name                     object\n",
       "weather_state_abbr                     object\n",
       "wind_direction_compass                 object\n",
       "created                   datetime64[ns, UTC]\n",
       "applicable_date                datetime64[ns]\n",
       "min_temp                              float64\n",
       "max_temp                              float64\n",
       "the_temp                              float64\n",
       "wind_speed                            float64\n",
       "wind_direction                        float64\n",
       "air_pressure                          float64\n",
       "humidity                                int64\n",
       "visibility                            float64\n",
       "predictability                          int64\n",
       "dtype: object"
      ]
     },
     "execution_count": 39,
     "metadata": {},
     "output_type": "execute_result"
    }
   ],
   "source": [
    "df.dtypes"
   ]
  },
  {
   "cell_type": "code",
   "execution_count": 40,
   "metadata": {},
   "outputs": [
    {
     "data": {
      "text/html": [
       "<div>\n",
       "<style scoped>\n",
       "    .dataframe tbody tr th:only-of-type {\n",
       "        vertical-align: middle;\n",
       "    }\n",
       "\n",
       "    .dataframe tbody tr th {\n",
       "        vertical-align: top;\n",
       "    }\n",
       "\n",
       "    .dataframe thead th {\n",
       "        text-align: right;\n",
       "    }\n",
       "</style>\n",
       "<table border=\"1\" class=\"dataframe\">\n",
       "  <thead>\n",
       "    <tr style=\"text-align: right;\">\n",
       "      <th></th>\n",
       "      <th>id</th>\n",
       "      <th>weather_state_name</th>\n",
       "      <th>weather_state_abbr</th>\n",
       "      <th>wind_direction_compass</th>\n",
       "      <th>created</th>\n",
       "      <th>applicable_date</th>\n",
       "      <th>min_temp</th>\n",
       "      <th>max_temp</th>\n",
       "      <th>the_temp</th>\n",
       "      <th>wind_speed</th>\n",
       "      <th>wind_direction</th>\n",
       "      <th>air_pressure</th>\n",
       "      <th>humidity</th>\n",
       "      <th>visibility</th>\n",
       "      <th>predictability</th>\n",
       "    </tr>\n",
       "  </thead>\n",
       "  <tbody>\n",
       "    <tr>\n",
       "      <th>0</th>\n",
       "      <td>4689894351831040</td>\n",
       "      <td>Showers</td>\n",
       "      <td>s</td>\n",
       "      <td>WSW</td>\n",
       "      <td>2020-06-28 21:37:04.785995+00:00</td>\n",
       "      <td>2020-06-28</td>\n",
       "      <td>16.605</td>\n",
       "      <td>21.605</td>\n",
       "      <td>20.955</td>\n",
       "      <td>8.342198</td>\n",
       "      <td>243.501678</td>\n",
       "      <td>1015.5</td>\n",
       "      <td>59</td>\n",
       "      <td>12.268042</td>\n",
       "      <td>73</td>\n",
       "    </tr>\n",
       "    <tr>\n",
       "      <th>1</th>\n",
       "      <td>6422688522305536</td>\n",
       "      <td>Showers</td>\n",
       "      <td>s</td>\n",
       "      <td>WSW</td>\n",
       "      <td>2020-06-28 18:37:05.388908+00:00</td>\n",
       "      <td>2020-06-28</td>\n",
       "      <td>15.920</td>\n",
       "      <td>23.420</td>\n",
       "      <td>22.860</td>\n",
       "      <td>8.366793</td>\n",
       "      <td>238.833985</td>\n",
       "      <td>1015.5</td>\n",
       "      <td>52</td>\n",
       "      <td>12.343228</td>\n",
       "      <td>73</td>\n",
       "    </tr>\n",
       "    <tr>\n",
       "      <th>2</th>\n",
       "      <td>4716131417849856</td>\n",
       "      <td>Showers</td>\n",
       "      <td>s</td>\n",
       "      <td>WSW</td>\n",
       "      <td>2020-06-28 15:37:05.758353+00:00</td>\n",
       "      <td>2020-06-28</td>\n",
       "      <td>15.920</td>\n",
       "      <td>23.420</td>\n",
       "      <td>22.860</td>\n",
       "      <td>8.366793</td>\n",
       "      <td>238.833985</td>\n",
       "      <td>1015.5</td>\n",
       "      <td>52</td>\n",
       "      <td>12.343228</td>\n",
       "      <td>73</td>\n",
       "    </tr>\n",
       "    <tr>\n",
       "      <th>3</th>\n",
       "      <td>5549963515789312</td>\n",
       "      <td>Showers</td>\n",
       "      <td>s</td>\n",
       "      <td>WSW</td>\n",
       "      <td>2020-06-28 12:37:04.581450+00:00</td>\n",
       "      <td>2020-06-28</td>\n",
       "      <td>15.795</td>\n",
       "      <td>22.490</td>\n",
       "      <td>20.470</td>\n",
       "      <td>8.180382</td>\n",
       "      <td>238.170711</td>\n",
       "      <td>1016.0</td>\n",
       "      <td>60</td>\n",
       "      <td>12.343228</td>\n",
       "      <td>73</td>\n",
       "    </tr>\n",
       "    <tr>\n",
       "      <th>4</th>\n",
       "      <td>5317515624316928</td>\n",
       "      <td>Showers</td>\n",
       "      <td>s</td>\n",
       "      <td>WSW</td>\n",
       "      <td>2020-06-28 09:37:05.381099+00:00</td>\n",
       "      <td>2020-06-28</td>\n",
       "      <td>15.780</td>\n",
       "      <td>21.790</td>\n",
       "      <td>20.495</td>\n",
       "      <td>7.936166</td>\n",
       "      <td>237.834144</td>\n",
       "      <td>1016.0</td>\n",
       "      <td>60</td>\n",
       "      <td>11.450318</td>\n",
       "      <td>73</td>\n",
       "    </tr>\n",
       "  </tbody>\n",
       "</table>\n",
       "</div>"
      ],
      "text/plain": [
       "                 id weather_state_name weather_state_abbr  \\\n",
       "0  4689894351831040            Showers                  s   \n",
       "1  6422688522305536            Showers                  s   \n",
       "2  4716131417849856            Showers                  s   \n",
       "3  5549963515789312            Showers                  s   \n",
       "4  5317515624316928            Showers                  s   \n",
       "\n",
       "  wind_direction_compass                          created applicable_date  \\\n",
       "0                    WSW 2020-06-28 21:37:04.785995+00:00      2020-06-28   \n",
       "1                    WSW 2020-06-28 18:37:05.388908+00:00      2020-06-28   \n",
       "2                    WSW 2020-06-28 15:37:05.758353+00:00      2020-06-28   \n",
       "3                    WSW 2020-06-28 12:37:04.581450+00:00      2020-06-28   \n",
       "4                    WSW 2020-06-28 09:37:05.381099+00:00      2020-06-28   \n",
       "\n",
       "   min_temp  max_temp  the_temp  wind_speed  wind_direction  air_pressure  \\\n",
       "0    16.605    21.605    20.955    8.342198      243.501678        1015.5   \n",
       "1    15.920    23.420    22.860    8.366793      238.833985        1015.5   \n",
       "2    15.920    23.420    22.860    8.366793      238.833985        1015.5   \n",
       "3    15.795    22.490    20.470    8.180382      238.170711        1016.0   \n",
       "4    15.780    21.790    20.495    7.936166      237.834144        1016.0   \n",
       "\n",
       "   humidity  visibility  predictability  \n",
       "0        59   12.268042              73  \n",
       "1        52   12.343228              73  \n",
       "2        52   12.343228              73  \n",
       "3        60   12.343228              73  \n",
       "4        60   11.450318              73  "
      ]
     },
     "execution_count": 40,
     "metadata": {},
     "output_type": "execute_result"
    }
   ],
   "source": [
    "df.head()"
   ]
  },
  {
   "cell_type": "code",
   "execution_count": 47,
   "metadata": {},
   "outputs": [
    {
     "data": {
      "image/png": "[encoded data removed]",
      "text/plain": [
       "<Figure size 720x360 with 1 Axes>"
      ]
     },
     "metadata": {
      "needs_background": "light"
     },
     "output_type": "display_data"
    }
   ],
   "source": [
    "fig = plt.figure(figsize=(10,5))\n",
    "plt.plot(df.created, df.the_temp, linewidth=.8)\n",
    "plt.tight_layout()\n",
    "plt.show()"
   ]
  }
 ],
 "metadata": {
  "colab": {
   "collapsed_sections": [],
   "name": "1.ipynb",
   "provenance": []
  },
  "kernelspec": {
   "display_name": "Python 3",
   "language": "python",
   "name": "python3"
  },
  "language_info": {
   "codemirror_mode": {
    "name": "ipython",
    "version": 3
   },
   "file_extension": ".py",
   "mimetype": "text/x-python",
   "name": "python",
   "nbconvert_exporter": "python",
   "pygments_lexer": "ipython3",
   "version": "3.7.7"
  }
 },
 "nbformat": 4,
 "nbformat_minor": 4
}
