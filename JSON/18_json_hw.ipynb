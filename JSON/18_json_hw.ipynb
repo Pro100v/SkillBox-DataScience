{
 "cells": [
  {
   "cell_type": "markdown",
   "metadata": {
    "colab_type": "text",
    "id": "zgfg6PaTrknK"
   },
   "source": [
    "# Чтение и запись данных\n"
   ]
  },
  {
   "cell_type": "code",
   "execution_count": 1,
   "metadata": {
    "colab": {},
    "colab_type": "code",
    "id": "qpd3wki0rknL"
   },
   "outputs": [],
   "source": [
    "import urllib.request as req\n",
    "import json\n",
    "import pandas as pd\n",
    "from matplotlib import pyplot as plt"
   ]
  },
  {
   "cell_type": "markdown",
   "metadata": {
    "colab_type": "text",
    "id": "FOXDpSRnrknP"
   },
   "source": [
    "## Урок 1. Чтение данных из web-сервиса\n",
    "\n",
    "### Практика\n",
    "\n",
    "#### Задание 1\n",
    "\n",
    "Используя сервис MetaWeather, найдите идентификатор города Париж (Paris). Для запроса используйте адрес из следующей ячейки, заменив `%city%` на имя города."
   ]
  },
  {
   "cell_type": "code",
   "execution_count": 2,
   "metadata": {
    "colab": {},
    "colab_type": "code",
    "id": "1Xljt65SrknP"
   },
   "outputs": [
    {
     "data": {
      "text/plain": [
       "'https://www.metaweather.com/api/location/search/?query=Paris'"
      ]
     },
     "execution_count": 2,
     "metadata": {},
     "output_type": "execute_result"
    }
   ],
   "source": [
    "city = 'Paris'\n",
    "url = f\"https://www.metaweather.com/api/location/search/?query={city}\"\n",
    "url"
   ]
  },
  {
   "cell_type": "code",
   "execution_count": 4,
   "metadata": {
    "colab": {},
    "colab_type": "code",
    "id": "1Xljt65SrknP"
   },
   "outputs": [],
   "source": [
    "# вызов api для получения данных по городу\n",
    "with req.urlopen(url) as session:\n",
    "    response = session.read().decode()"
   ]
  },
  {
   "cell_type": "code",
   "execution_count": 5,
   "metadata": {
    "colab": {},
    "colab_type": "code",
    "id": "1Xljt65SrknP"
   },
   "outputs": [
    {
     "name": "stdout",
     "output_type": "stream",
     "text": [
      "[{'title': 'Paris', 'location_type': 'City', 'woeid': 615702, 'latt_long': '48.856930,2.341200'}]\n",
      "615702\n"
     ]
    }
   ],
   "source": [
    "# преобразуем ответ в JSON\n",
    "response = json.loads(response)\n",
    "print(response)\n",
    "\n",
    "# извлечем идентификатор города \n",
    "city_id = response[0]['woeid']\n",
    "print(city_id)"
   ]
  },
  {
   "cell_type": "markdown",
   "metadata": {
    "colab_type": "text",
    "id": "H0XwvPuJrknR"
   },
   "source": [
    "#### Задание 2\n",
    "\n",
    "Используя полученный идентификатор города, запросите данные о погоде в Париже за 28 мая 2020 года. Для запроса используйте адрес из следующей ячейки, заменив `%city_id%`, `%year%`, `%month%`, `%day%` на идентификатор города, год, месяц и день соответственно."
   ]
  },
  {
   "cell_type": "code",
   "execution_count": 7,
   "metadata": {
    "colab": {},
    "colab_type": "code",
    "id": "tjsftok3rknS"
   },
   "outputs": [
    {
     "name": "stdout",
     "output_type": "stream",
     "text": [
      "https://www.metaweather.com/api/location/615702/2020/06/28/\n"
     ]
    }
   ],
   "source": [
    "# сформируем запрос для получения сведений по погоде по определенному городу, году, месяцу и году\n",
    "year, month, day  = '2020', '06', '28'\n",
    "\n",
    "url = f'https://www.metaweather.com/api/location/{city_id}/{year}/{month}/{day}/'\n",
    "print(url)"
   ]
  },
  {
   "cell_type": "code",
   "execution_count": 10,
   "metadata": {},
   "outputs": [],
   "source": [
    "# выполним запрос для получения данных\n",
    "\n",
    "with req.urlopen(url) as session:\n",
    "    response = session.read().decode()\n",
    "\n",
    "# response = json.loads(response)\n",
    "# response"
   ]
  },
  {
   "cell_type": "code",
   "execution_count": 11,
   "metadata": {},
   "outputs": [],
   "source": [
    "# загрузим полученный ответ в датафрейм пандас \n",
    "df = pd.read_json(response, convert_dates=['created', 'applicable_date'])\n"
   ]
  },
  {
   "cell_type": "code",
   "execution_count": 12,
   "metadata": {},
   "outputs": [
    {
     "data": {
      "text/plain": [
       "id                                      int64\n",
       "weather_state_name                     object\n",
       "weather_state_abbr                     object\n",
       "wind_direction_compass                 object\n",
       "created                   datetime64[ns, UTC]\n",
       "applicable_date                datetime64[ns]\n",
       "min_temp                              float64\n",
       "max_temp                              float64\n",
       "the_temp                              float64\n",
       "wind_speed                            float64\n",
       "wind_direction                        float64\n",
       "air_pressure                          float64\n",
       "humidity                                int64\n",
       "visibility                            float64\n",
       "predictability                          int64\n",
       "dtype: object"
      ]
     },
     "execution_count": 12,
     "metadata": {},
     "output_type": "execute_result"
    }
   ],
   "source": [
    "df.dtypes"
   ]
  },
  {
   "cell_type": "code",
   "execution_count": 13,
   "metadata": {},
   "outputs": [
    {
     "data": {
      "text/html": [
       "<div>\n",
       "<style scoped>\n",
       "    .dataframe tbody tr th:only-of-type {\n",
       "        vertical-align: middle;\n",
       "    }\n",
       "\n",
       "    .dataframe tbody tr th {\n",
       "        vertical-align: top;\n",
       "    }\n",
       "\n",
       "    .dataframe thead th {\n",
       "        text-align: right;\n",
       "    }\n",
       "</style>\n",
       "<table border=\"1\" class=\"dataframe\">\n",
       "  <thead>\n",
       "    <tr style=\"text-align: right;\">\n",
       "      <th></th>\n",
       "      <th>id</th>\n",
       "      <th>weather_state_name</th>\n",
       "      <th>weather_state_abbr</th>\n",
       "      <th>wind_direction_compass</th>\n",
       "      <th>created</th>\n",
       "      <th>applicable_date</th>\n",
       "      <th>min_temp</th>\n",
       "      <th>max_temp</th>\n",
       "      <th>the_temp</th>\n",
       "      <th>wind_speed</th>\n",
       "      <th>wind_direction</th>\n",
       "      <th>air_pressure</th>\n",
       "      <th>humidity</th>\n",
       "      <th>visibility</th>\n",
       "      <th>predictability</th>\n",
       "    </tr>\n",
       "  </thead>\n",
       "  <tbody>\n",
       "    <tr>\n",
       "      <th>0</th>\n",
       "      <td>4689894351831040</td>\n",
       "      <td>Showers</td>\n",
       "      <td>s</td>\n",
       "      <td>WSW</td>\n",
       "      <td>2020-06-28 21:37:04.785995+00:00</td>\n",
       "      <td>2020-06-28</td>\n",
       "      <td>16.605</td>\n",
       "      <td>21.605</td>\n",
       "      <td>20.955</td>\n",
       "      <td>8.342198</td>\n",
       "      <td>243.501678</td>\n",
       "      <td>1015.5</td>\n",
       "      <td>59</td>\n",
       "      <td>12.268042</td>\n",
       "      <td>73</td>\n",
       "    </tr>\n",
       "    <tr>\n",
       "      <th>1</th>\n",
       "      <td>6422688522305536</td>\n",
       "      <td>Showers</td>\n",
       "      <td>s</td>\n",
       "      <td>WSW</td>\n",
       "      <td>2020-06-28 18:37:05.388908+00:00</td>\n",
       "      <td>2020-06-28</td>\n",
       "      <td>15.920</td>\n",
       "      <td>23.420</td>\n",
       "      <td>22.860</td>\n",
       "      <td>8.366793</td>\n",
       "      <td>238.833985</td>\n",
       "      <td>1015.5</td>\n",
       "      <td>52</td>\n",
       "      <td>12.343228</td>\n",
       "      <td>73</td>\n",
       "    </tr>\n",
       "    <tr>\n",
       "      <th>2</th>\n",
       "      <td>4716131417849856</td>\n",
       "      <td>Showers</td>\n",
       "      <td>s</td>\n",
       "      <td>WSW</td>\n",
       "      <td>2020-06-28 15:37:05.758353+00:00</td>\n",
       "      <td>2020-06-28</td>\n",
       "      <td>15.920</td>\n",
       "      <td>23.420</td>\n",
       "      <td>22.860</td>\n",
       "      <td>8.366793</td>\n",
       "      <td>238.833985</td>\n",
       "      <td>1015.5</td>\n",
       "      <td>52</td>\n",
       "      <td>12.343228</td>\n",
       "      <td>73</td>\n",
       "    </tr>\n",
       "    <tr>\n",
       "      <th>3</th>\n",
       "      <td>5549963515789312</td>\n",
       "      <td>Showers</td>\n",
       "      <td>s</td>\n",
       "      <td>WSW</td>\n",
       "      <td>2020-06-28 12:37:04.581450+00:00</td>\n",
       "      <td>2020-06-28</td>\n",
       "      <td>15.795</td>\n",
       "      <td>22.490</td>\n",
       "      <td>20.470</td>\n",
       "      <td>8.180382</td>\n",
       "      <td>238.170711</td>\n",
       "      <td>1016.0</td>\n",
       "      <td>60</td>\n",
       "      <td>12.343228</td>\n",
       "      <td>73</td>\n",
       "    </tr>\n",
       "    <tr>\n",
       "      <th>4</th>\n",
       "      <td>5317515624316928</td>\n",
       "      <td>Showers</td>\n",
       "      <td>s</td>\n",
       "      <td>WSW</td>\n",
       "      <td>2020-06-28 09:37:05.381099+00:00</td>\n",
       "      <td>2020-06-28</td>\n",
       "      <td>15.780</td>\n",
       "      <td>21.790</td>\n",
       "      <td>20.495</td>\n",
       "      <td>7.936166</td>\n",
       "      <td>237.834144</td>\n",
       "      <td>1016.0</td>\n",
       "      <td>60</td>\n",
       "      <td>11.450318</td>\n",
       "      <td>73</td>\n",
       "    </tr>\n",
       "  </tbody>\n",
       "</table>\n",
       "</div>"
      ],
      "text/plain": [
       "                 id weather_state_name weather_state_abbr  \\\n",
       "0  4689894351831040            Showers                  s   \n",
       "1  6422688522305536            Showers                  s   \n",
       "2  4716131417849856            Showers                  s   \n",
       "3  5549963515789312            Showers                  s   \n",
       "4  5317515624316928            Showers                  s   \n",
       "\n",
       "  wind_direction_compass                          created applicable_date  \\\n",
       "0                    WSW 2020-06-28 21:37:04.785995+00:00      2020-06-28   \n",
       "1                    WSW 2020-06-28 18:37:05.388908+00:00      2020-06-28   \n",
       "2                    WSW 2020-06-28 15:37:05.758353+00:00      2020-06-28   \n",
       "3                    WSW 2020-06-28 12:37:04.581450+00:00      2020-06-28   \n",
       "4                    WSW 2020-06-28 09:37:05.381099+00:00      2020-06-28   \n",
       "\n",
       "   min_temp  max_temp  the_temp  wind_speed  wind_direction  air_pressure  \\\n",
       "0    16.605    21.605    20.955    8.342198      243.501678        1015.5   \n",
       "1    15.920    23.420    22.860    8.366793      238.833985        1015.5   \n",
       "2    15.920    23.420    22.860    8.366793      238.833985        1015.5   \n",
       "3    15.795    22.490    20.470    8.180382      238.170711        1016.0   \n",
       "4    15.780    21.790    20.495    7.936166      237.834144        1016.0   \n",
       "\n",
       "   humidity  visibility  predictability  \n",
       "0        59   12.268042              73  \n",
       "1        52   12.343228              73  \n",
       "2        52   12.343228              73  \n",
       "3        60   12.343228              73  \n",
       "4        60   11.450318              73  "
      ]
     },
     "execution_count": 13,
     "metadata": {},
     "output_type": "execute_result"
    }
   ],
   "source": [
    "df.head()"
   ]
  },
  {
   "cell_type": "code",
   "execution_count": 15,
   "metadata": {},
   "outputs": [
    {
     "data": {
      "text/html": [
       "<div>\n",
       "<style scoped>\n",
       "    .dataframe tbody tr th:only-of-type {\n",
       "        vertical-align: middle;\n",
       "    }\n",
       "\n",
       "    .dataframe tbody tr th {\n",
       "        vertical-align: top;\n",
       "    }\n",
       "\n",
       "    .dataframe thead th {\n",
       "        text-align: right;\n",
       "    }\n",
       "</style>\n",
       "<table border=\"1\" class=\"dataframe\">\n",
       "  <thead>\n",
       "    <tr style=\"text-align: right;\">\n",
       "      <th></th>\n",
       "      <th>id</th>\n",
       "      <th>min_temp</th>\n",
       "      <th>max_temp</th>\n",
       "      <th>the_temp</th>\n",
       "      <th>wind_speed</th>\n",
       "      <th>wind_direction</th>\n",
       "      <th>air_pressure</th>\n",
       "      <th>humidity</th>\n",
       "      <th>visibility</th>\n",
       "      <th>predictability</th>\n",
       "    </tr>\n",
       "  </thead>\n",
       "  <tbody>\n",
       "    <tr>\n",
       "      <th>count</th>\n",
       "      <td>7.200000e+01</td>\n",
       "      <td>72.000000</td>\n",
       "      <td>72.000000</td>\n",
       "      <td>72.000000</td>\n",
       "      <td>72.000000</td>\n",
       "      <td>72.000000</td>\n",
       "      <td>72.000000</td>\n",
       "      <td>72.000000</td>\n",
       "      <td>62.000000</td>\n",
       "      <td>72.000000</td>\n",
       "    </tr>\n",
       "    <tr>\n",
       "      <th>mean</th>\n",
       "      <td>5.673635e+15</td>\n",
       "      <td>16.899444</td>\n",
       "      <td>24.360417</td>\n",
       "      <td>22.786111</td>\n",
       "      <td>6.285630</td>\n",
       "      <td>237.333002</td>\n",
       "      <td>1016.881944</td>\n",
       "      <td>57.930556</td>\n",
       "      <td>11.406591</td>\n",
       "      <td>73.388889</td>\n",
       "    </tr>\n",
       "    <tr>\n",
       "      <th>std</th>\n",
       "      <td>6.071806e+14</td>\n",
       "      <td>1.510339</td>\n",
       "      <td>2.673790</td>\n",
       "      <td>2.707341</td>\n",
       "      <td>2.542831</td>\n",
       "      <td>34.495394</td>\n",
       "      <td>1.792970</td>\n",
       "      <td>7.075700</td>\n",
       "      <td>1.354357</td>\n",
       "      <td>1.788504</td>\n",
       "    </tr>\n",
       "    <tr>\n",
       "      <th>min</th>\n",
       "      <td>4.545088e+15</td>\n",
       "      <td>15.130000</td>\n",
       "      <td>20.490000</td>\n",
       "      <td>19.350000</td>\n",
       "      <td>1.485077</td>\n",
       "      <td>53.500000</td>\n",
       "      <td>1012.000000</td>\n",
       "      <td>38.000000</td>\n",
       "      <td>8.979124</td>\n",
       "      <td>68.000000</td>\n",
       "    </tr>\n",
       "    <tr>\n",
       "      <th>25%</th>\n",
       "      <td>5.273664e+15</td>\n",
       "      <td>15.653750</td>\n",
       "      <td>22.435000</td>\n",
       "      <td>21.003750</td>\n",
       "      <td>4.346394</td>\n",
       "      <td>234.287959</td>\n",
       "      <td>1016.000000</td>\n",
       "      <td>52.000000</td>\n",
       "      <td>9.999727</td>\n",
       "      <td>73.000000</td>\n",
       "    </tr>\n",
       "    <tr>\n",
       "      <th>50%</th>\n",
       "      <td>5.583813e+15</td>\n",
       "      <td>15.920000</td>\n",
       "      <td>23.527500</td>\n",
       "      <td>22.010000</td>\n",
       "      <td>7.948878</td>\n",
       "      <td>239.180156</td>\n",
       "      <td>1016.500000</td>\n",
       "      <td>57.000000</td>\n",
       "      <td>11.551601</td>\n",
       "      <td>73.000000</td>\n",
       "    </tr>\n",
       "    <tr>\n",
       "      <th>75%</th>\n",
       "      <td>6.242597e+15</td>\n",
       "      <td>18.083750</td>\n",
       "      <td>26.156250</td>\n",
       "      <td>23.505000</td>\n",
       "      <td>8.396536</td>\n",
       "      <td>246.625000</td>\n",
       "      <td>1019.000000</td>\n",
       "      <td>61.000000</td>\n",
       "      <td>12.465017</td>\n",
       "      <td>73.000000</td>\n",
       "    </tr>\n",
       "    <tr>\n",
       "      <th>max</th>\n",
       "      <td>6.745603e+15</td>\n",
       "      <td>20.880000</td>\n",
       "      <td>32.280000</td>\n",
       "      <td>32.280000</td>\n",
       "      <td>9.587809</td>\n",
       "      <td>317.000000</td>\n",
       "      <td>1020.000000</td>\n",
       "      <td>79.000000</td>\n",
       "      <td>13.739138</td>\n",
       "      <td>77.000000</td>\n",
       "    </tr>\n",
       "  </tbody>\n",
       "</table>\n",
       "</div>"
      ],
      "text/plain": [
       "                 id   min_temp   max_temp   the_temp  wind_speed  \\\n",
       "count  7.200000e+01  72.000000  72.000000  72.000000   72.000000   \n",
       "mean   5.673635e+15  16.899444  24.360417  22.786111    6.285630   \n",
       "std    6.071806e+14   1.510339   2.673790   2.707341    2.542831   \n",
       "min    4.545088e+15  15.130000  20.490000  19.350000    1.485077   \n",
       "25%    5.273664e+15  15.653750  22.435000  21.003750    4.346394   \n",
       "50%    5.583813e+15  15.920000  23.527500  22.010000    7.948878   \n",
       "75%    6.242597e+15  18.083750  26.156250  23.505000    8.396536   \n",
       "max    6.745603e+15  20.880000  32.280000  32.280000    9.587809   \n",
       "\n",
       "       wind_direction  air_pressure   humidity  visibility  predictability  \n",
       "count       72.000000     72.000000  72.000000   62.000000       72.000000  \n",
       "mean       237.333002   1016.881944  57.930556   11.406591       73.388889  \n",
       "std         34.495394      1.792970   7.075700    1.354357        1.788504  \n",
       "min         53.500000   1012.000000  38.000000    8.979124       68.000000  \n",
       "25%        234.287959   1016.000000  52.000000    9.999727       73.000000  \n",
       "50%        239.180156   1016.500000  57.000000   11.551601       73.000000  \n",
       "75%        246.625000   1019.000000  61.000000   12.465017       73.000000  \n",
       "max        317.000000   1020.000000  79.000000   13.739138       77.000000  "
      ]
     },
     "execution_count": 15,
     "metadata": {},
     "output_type": "execute_result"
    }
   ],
   "source": [
    "df.describe()"
   ]
  },
  {
   "cell_type": "code",
   "execution_count": 63,
   "metadata": {},
   "outputs": [
    {
     "data": {
      "image/png": "[encoded data removed]",
      "text/plain": [
       "<Figure size 720x360 with 1 Axes>"
      ]
     },
     "metadata": {
      "needs_background": "light"
     },
     "output_type": "display_data"
    }
   ],
   "source": [
    "fig = plt.figure(figsize=(10,5))\n",
    "plt.plot(df['created'].values, df['the_temp'].values, 'g-', linewidth=.8, label='temp')\n",
    "plt.plot(df['created'].values, df['min_temp'].values, 'bo--', label='min temp', linewidth=.6, markersize=3, mfc='w')\n",
    "plt.plot(df['created'].values, df['max_temp'].values, 'ro--', label='max temp', linewidth=.6, markersize=3, mfc='w')\n",
    "plt.legend()\n",
    "plt.tight_layout()\n",
    "plt.show()"
   ]
  },
  {
   "cell_type": "code",
   "execution_count": null,
   "metadata": {},
   "outputs": [],
   "source": []
  }
 ],
 "metadata": {
  "colab": {
   "collapsed_sections": [],
   "name": "1.ipynb",
   "provenance": []
  },
  "kernelspec": {
   "display_name": "Python 3",
   "language": "python",
   "name": "python3"
  },
  "language_info": {
   "codemirror_mode": {
    "name": "ipython",
    "version": 3
   },
   "file_extension": ".py",
   "mimetype": "text/x-python",
   "name": "python",
   "nbconvert_exporter": "python",
   "pygments_lexer": "ipython3",
   "version": "3.7.7"
  }
 },
 "nbformat": 4,
 "nbformat_minor": 4
}
